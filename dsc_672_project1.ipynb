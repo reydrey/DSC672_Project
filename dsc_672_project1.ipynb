{
 "cells": [
  {
   "cell_type": "markdown",
   "metadata": {
    "id": "TjJdpQWkNCUp"
   },
   "source": [
    "#DSC 672 Project by Vikram Kalister and Shreyas Ravi"
   ]
  },
  {
   "cell_type": "markdown",
   "metadata": {
    "id": "S-me2kESmly9"
   },
   "source": [
    "## Importing Packages"
   ]
  },
  {
   "cell_type": "code",
   "execution_count": 1,
   "metadata": {
    "colab": {
     "base_uri": "https://localhost:8080/",
     "height": 176
    },
    "id": "eq70LOeuNDHV",
    "outputId": "b84439de-d983-48b5-9203-d37ee462dea6"
   },
   "outputs": [
    {
     "data": {
      "text/plain": [
       "'0.24.2'"
      ]
     },
     "execution_count": 1,
     "metadata": {},
     "output_type": "execute_result"
    }
   ],
   "source": [
    "import sklearn\n",
    "import pandas as pd\n",
    "import numpy as np\n",
    "import matplotlib.pyplot as plt\n",
    "import seaborn as sns\n",
    "from sklearn.preprocessing import MinMaxScaler\n",
    "\n",
    "sklearn.__version__"
   ]
  },
  {
   "cell_type": "code",
   "execution_count": 2,
   "metadata": {
    "colab": {
     "base_uri": "https://localhost:8080/"
    },
    "id": "niAzJzqOsa3V",
    "outputId": "11d627b3-8129-4232-cbfa-21150e7d6d53"
   },
   "outputs": [
    {
     "name": "stdout",
     "output_type": "stream",
     "text": [
      "Requirement already satisfied: pymc3==3.10 in /Users/shreyasravi/opt/anaconda3/lib/python3.9/site-packages (3.10.0)\n",
      "Requirement already satisfied: dill in /Users/shreyasravi/opt/anaconda3/lib/python3.9/site-packages (from pymc3==3.10) (0.3.4)\n",
      "Requirement already satisfied: fastprogress>=0.2.0 in /Users/shreyasravi/opt/anaconda3/lib/python3.9/site-packages (from pymc3==3.10) (1.0.2)\n",
      "Requirement already satisfied: patsy>=0.5.1 in /Users/shreyasravi/opt/anaconda3/lib/python3.9/site-packages (from pymc3==3.10) (0.5.2)\n",
      "Requirement already satisfied: numpy>=1.13.0 in /Users/shreyasravi/opt/anaconda3/lib/python3.9/site-packages (from pymc3==3.10) (1.20.3)\n",
      "Requirement already satisfied: arviz>=0.9.0 in /Users/shreyasravi/opt/anaconda3/lib/python3.9/site-packages (from pymc3==3.10) (0.10.0)\n",
      "Requirement already satisfied: scipy>=0.18.1 in /Users/shreyasravi/opt/anaconda3/lib/python3.9/site-packages (from pymc3==3.10) (1.7.1)\n",
      "Requirement already satisfied: pandas>=0.18.0 in /Users/shreyasravi/opt/anaconda3/lib/python3.9/site-packages (from pymc3==3.10) (1.3.4)\n",
      "Requirement already satisfied: typing-extensions>=3.7.4 in /Users/shreyasravi/opt/anaconda3/lib/python3.9/site-packages (from pymc3==3.10) (3.10.0.2)\n",
      "Requirement already satisfied: theano-pymc==1.0.11 in /Users/shreyasravi/opt/anaconda3/lib/python3.9/site-packages (from pymc3==3.10) (1.0.11)\n",
      "Requirement already satisfied: xarray>=0.16.1 in /Users/shreyasravi/opt/anaconda3/lib/python3.9/site-packages (from arviz>=0.9.0->pymc3==3.10) (2022.3.0)\n",
      "Requirement already satisfied: packaging in /Users/shreyasravi/opt/anaconda3/lib/python3.9/site-packages (from arviz>=0.9.0->pymc3==3.10) (21.0)\n",
      "Requirement already satisfied: matplotlib>=3.0 in /Users/shreyasravi/opt/anaconda3/lib/python3.9/site-packages (from arviz>=0.9.0->pymc3==3.10) (3.4.3)\n",
      "Requirement already satisfied: netcdf4 in /Users/shreyasravi/opt/anaconda3/lib/python3.9/site-packages (from arviz>=0.9.0->pymc3==3.10) (1.5.8)\n",
      "Requirement already satisfied: setuptools>=38.4 in /Users/shreyasravi/opt/anaconda3/lib/python3.9/site-packages (from arviz>=0.9.0->pymc3==3.10) (58.0.4)\n",
      "Requirement already satisfied: python-dateutil>=2.7 in /Users/shreyasravi/opt/anaconda3/lib/python3.9/site-packages (from matplotlib>=3.0->arviz>=0.9.0->pymc3==3.10) (2.8.2)\n",
      "Requirement already satisfied: pillow>=6.2.0 in /Users/shreyasravi/opt/anaconda3/lib/python3.9/site-packages (from matplotlib>=3.0->arviz>=0.9.0->pymc3==3.10) (8.4.0)\n",
      "Requirement already satisfied: pyparsing>=2.2.1 in /Users/shreyasravi/opt/anaconda3/lib/python3.9/site-packages (from matplotlib>=3.0->arviz>=0.9.0->pymc3==3.10) (3.0.4)\n",
      "Requirement already satisfied: cycler>=0.10 in /Users/shreyasravi/opt/anaconda3/lib/python3.9/site-packages (from matplotlib>=3.0->arviz>=0.9.0->pymc3==3.10) (0.10.0)\n",
      "Requirement already satisfied: kiwisolver>=1.0.1 in /Users/shreyasravi/opt/anaconda3/lib/python3.9/site-packages (from matplotlib>=3.0->arviz>=0.9.0->pymc3==3.10) (1.3.1)\n",
      "Requirement already satisfied: six in /Users/shreyasravi/opt/anaconda3/lib/python3.9/site-packages (from cycler>=0.10->matplotlib>=3.0->arviz>=0.9.0->pymc3==3.10) (1.16.0)\n",
      "Requirement already satisfied: pytz>=2017.3 in /Users/shreyasravi/opt/anaconda3/lib/python3.9/site-packages (from pandas>=0.18.0->pymc3==3.10) (2021.3)\n",
      "Requirement already satisfied: cftime in /Users/shreyasravi/opt/anaconda3/lib/python3.9/site-packages (from netcdf4->arviz>=0.9.0->pymc3==3.10) (1.6.0)\n",
      "Requirement already satisfied: arviz==0.10 in /Users/shreyasravi/opt/anaconda3/lib/python3.9/site-packages (0.10.0)\n",
      "Requirement already satisfied: setuptools>=38.4 in /Users/shreyasravi/opt/anaconda3/lib/python3.9/site-packages (from arviz==0.10) (58.0.4)\n",
      "Requirement already satisfied: pandas>=0.23 in /Users/shreyasravi/opt/anaconda3/lib/python3.9/site-packages (from arviz==0.10) (1.3.4)\n",
      "Requirement already satisfied: matplotlib>=3.0 in /Users/shreyasravi/opt/anaconda3/lib/python3.9/site-packages (from arviz==0.10) (3.4.3)\n",
      "Requirement already satisfied: scipy>=0.19 in /Users/shreyasravi/opt/anaconda3/lib/python3.9/site-packages (from arviz==0.10) (1.7.1)\n",
      "Requirement already satisfied: netcdf4 in /Users/shreyasravi/opt/anaconda3/lib/python3.9/site-packages (from arviz==0.10) (1.5.8)\n",
      "Requirement already satisfied: packaging in /Users/shreyasravi/opt/anaconda3/lib/python3.9/site-packages (from arviz==0.10) (21.0)\n",
      "Requirement already satisfied: xarray>=0.16.1 in /Users/shreyasravi/opt/anaconda3/lib/python3.9/site-packages (from arviz==0.10) (2022.3.0)\n",
      "Requirement already satisfied: numpy>=1.12 in /Users/shreyasravi/opt/anaconda3/lib/python3.9/site-packages (from arviz==0.10) (1.20.3)\n",
      "Requirement already satisfied: pillow>=6.2.0 in /Users/shreyasravi/opt/anaconda3/lib/python3.9/site-packages (from matplotlib>=3.0->arviz==0.10) (8.4.0)\n",
      "Requirement already satisfied: kiwisolver>=1.0.1 in /Users/shreyasravi/opt/anaconda3/lib/python3.9/site-packages (from matplotlib>=3.0->arviz==0.10) (1.3.1)\n",
      "Requirement already satisfied: cycler>=0.10 in /Users/shreyasravi/opt/anaconda3/lib/python3.9/site-packages (from matplotlib>=3.0->arviz==0.10) (0.10.0)\n",
      "Requirement already satisfied: python-dateutil>=2.7 in /Users/shreyasravi/opt/anaconda3/lib/python3.9/site-packages (from matplotlib>=3.0->arviz==0.10) (2.8.2)\n",
      "Requirement already satisfied: pyparsing>=2.2.1 in /Users/shreyasravi/opt/anaconda3/lib/python3.9/site-packages (from matplotlib>=3.0->arviz==0.10) (3.0.4)\n",
      "Requirement already satisfied: six in /Users/shreyasravi/opt/anaconda3/lib/python3.9/site-packages (from cycler>=0.10->matplotlib>=3.0->arviz==0.10) (1.16.0)\n",
      "Requirement already satisfied: pytz>=2017.3 in /Users/shreyasravi/opt/anaconda3/lib/python3.9/site-packages (from pandas>=0.23->arviz==0.10) (2021.3)\n",
      "Requirement already satisfied: cftime in /Users/shreyasravi/opt/anaconda3/lib/python3.9/site-packages (from netcdf4->arviz==0.10) (1.6.0)\n",
      "Requirement already satisfied: pgmpy in /Users/shreyasravi/opt/anaconda3/lib/python3.9/site-packages (0.1.17)\n",
      "Requirement already satisfied: networkx in /Users/shreyasravi/opt/anaconda3/lib/python3.9/site-packages (from pgmpy) (2.6.3)\n",
      "Requirement already satisfied: tqdm in /Users/shreyasravi/opt/anaconda3/lib/python3.9/site-packages (from pgmpy) (4.62.3)\n",
      "Requirement already satisfied: joblib in /Users/shreyasravi/opt/anaconda3/lib/python3.9/site-packages (from pgmpy) (1.1.0)\n",
      "Requirement already satisfied: pandas in /Users/shreyasravi/opt/anaconda3/lib/python3.9/site-packages (from pgmpy) (1.3.4)\n",
      "Requirement already satisfied: pyparsing in /Users/shreyasravi/opt/anaconda3/lib/python3.9/site-packages (from pgmpy) (3.0.4)\n",
      "Requirement already satisfied: statsmodels in /Users/shreyasravi/opt/anaconda3/lib/python3.9/site-packages (from pgmpy) (0.12.2)\n",
      "Requirement already satisfied: numpy in /Users/shreyasravi/opt/anaconda3/lib/python3.9/site-packages (from pgmpy) (1.20.3)\n",
      "Requirement already satisfied: torch in /Users/shreyasravi/opt/anaconda3/lib/python3.9/site-packages (from pgmpy) (1.11.0)\n",
      "Requirement already satisfied: scipy in /Users/shreyasravi/opt/anaconda3/lib/python3.9/site-packages (from pgmpy) (1.7.1)\n",
      "Requirement already satisfied: scikit-learn in /Users/shreyasravi/opt/anaconda3/lib/python3.9/site-packages (from pgmpy) (0.24.2)\n",
      "Requirement already satisfied: python-dateutil>=2.7.3 in /Users/shreyasravi/opt/anaconda3/lib/python3.9/site-packages (from pandas->pgmpy) (2.8.2)\n",
      "Requirement already satisfied: pytz>=2017.3 in /Users/shreyasravi/opt/anaconda3/lib/python3.9/site-packages (from pandas->pgmpy) (2021.3)\n",
      "Requirement already satisfied: six>=1.5 in /Users/shreyasravi/opt/anaconda3/lib/python3.9/site-packages (from python-dateutil>=2.7.3->pandas->pgmpy) (1.16.0)\n",
      "Requirement already satisfied: threadpoolctl>=2.0.0 in /Users/shreyasravi/opt/anaconda3/lib/python3.9/site-packages (from scikit-learn->pgmpy) (2.2.0)\n",
      "Requirement already satisfied: patsy>=0.5 in /Users/shreyasravi/opt/anaconda3/lib/python3.9/site-packages (from statsmodels->pgmpy) (0.5.2)\n",
      "Requirement already satisfied: typing-extensions in /Users/shreyasravi/opt/anaconda3/lib/python3.9/site-packages (from torch->pgmpy) (3.10.0.2)\n"
     ]
    }
   ],
   "source": [
    "!pip install pymc3==3.10\n",
    "!pip install arviz==0.10\n",
    "!pip install pgmpy"
   ]
  },
  {
   "cell_type": "code",
   "execution_count": 2,
   "metadata": {
    "id": "hOZfu2nnse9w"
   },
   "outputs": [],
   "source": [
    "import pymc3 as pm\n",
    "import arviz as az\n",
    "\n",
    "from pgmpy.models import BayesianModel\n",
    "from pgmpy.factors.discrete import TabularCPD\n",
    "\n",
    "from sklearn import metrics\n",
    "from sklearn.model_selection import train_test_split\n",
    "from sklearn.model_selection import GridSearchCV"
   ]
  },
  {
   "cell_type": "code",
   "execution_count": 3,
   "metadata": {
    "id": "pMv0gQHrqkPM"
   },
   "outputs": [],
   "source": [
    "data = pd.read_csv('cardio_train-1.csv', sep = \";\")"
   ]
  },
  {
   "cell_type": "code",
   "execution_count": 4,
   "metadata": {},
   "outputs": [
    {
     "data": {
      "text/plain": [
       "(70000, 13)"
      ]
     },
     "execution_count": 4,
     "metadata": {},
     "output_type": "execute_result"
    }
   ],
   "source": [
    "data.shape"
   ]
  },
  {
   "cell_type": "code",
   "execution_count": 5,
   "metadata": {},
   "outputs": [],
   "source": [
    "df = data.sample(frac=0.25)"
   ]
  },
  {
   "cell_type": "code",
   "execution_count": 6,
   "metadata": {
    "scrolled": true
   },
   "outputs": [
    {
     "data": {
      "text/html": [
       "<div>\n",
       "<style scoped>\n",
       "    .dataframe tbody tr th:only-of-type {\n",
       "        vertical-align: middle;\n",
       "    }\n",
       "\n",
       "    .dataframe tbody tr th {\n",
       "        vertical-align: top;\n",
       "    }\n",
       "\n",
       "    .dataframe thead th {\n",
       "        text-align: right;\n",
       "    }\n",
       "</style>\n",
       "<table border=\"1\" class=\"dataframe\">\n",
       "  <thead>\n",
       "    <tr style=\"text-align: right;\">\n",
       "      <th></th>\n",
       "      <th>id</th>\n",
       "      <th>age</th>\n",
       "      <th>gender</th>\n",
       "      <th>height</th>\n",
       "      <th>weight</th>\n",
       "      <th>ap_hi</th>\n",
       "      <th>ap_lo</th>\n",
       "      <th>cholesterol</th>\n",
       "      <th>gluc</th>\n",
       "      <th>smoke</th>\n",
       "      <th>alco</th>\n",
       "      <th>active</th>\n",
       "      <th>cardio</th>\n",
       "    </tr>\n",
       "  </thead>\n",
       "  <tbody>\n",
       "    <tr>\n",
       "      <th>54271</th>\n",
       "      <td>77391</td>\n",
       "      <td>23381</td>\n",
       "      <td>1</td>\n",
       "      <td>162</td>\n",
       "      <td>70.0</td>\n",
       "      <td>120</td>\n",
       "      <td>80</td>\n",
       "      <td>3</td>\n",
       "      <td>1</td>\n",
       "      <td>0</td>\n",
       "      <td>0</td>\n",
       "      <td>1</td>\n",
       "      <td>1</td>\n",
       "    </tr>\n",
       "    <tr>\n",
       "      <th>63189</th>\n",
       "      <td>90231</td>\n",
       "      <td>18135</td>\n",
       "      <td>2</td>\n",
       "      <td>183</td>\n",
       "      <td>112.0</td>\n",
       "      <td>120</td>\n",
       "      <td>80</td>\n",
       "      <td>1</td>\n",
       "      <td>1</td>\n",
       "      <td>0</td>\n",
       "      <td>0</td>\n",
       "      <td>1</td>\n",
       "      <td>1</td>\n",
       "    </tr>\n",
       "    <tr>\n",
       "      <th>37654</th>\n",
       "      <td>53772</td>\n",
       "      <td>15983</td>\n",
       "      <td>2</td>\n",
       "      <td>168</td>\n",
       "      <td>68.0</td>\n",
       "      <td>120</td>\n",
       "      <td>80</td>\n",
       "      <td>1</td>\n",
       "      <td>1</td>\n",
       "      <td>0</td>\n",
       "      <td>0</td>\n",
       "      <td>1</td>\n",
       "      <td>0</td>\n",
       "    </tr>\n",
       "    <tr>\n",
       "      <th>69888</th>\n",
       "      <td>99825</td>\n",
       "      <td>22050</td>\n",
       "      <td>1</td>\n",
       "      <td>165</td>\n",
       "      <td>58.0</td>\n",
       "      <td>150</td>\n",
       "      <td>90</td>\n",
       "      <td>3</td>\n",
       "      <td>1</td>\n",
       "      <td>0</td>\n",
       "      <td>0</td>\n",
       "      <td>1</td>\n",
       "      <td>1</td>\n",
       "    </tr>\n",
       "    <tr>\n",
       "      <th>38081</th>\n",
       "      <td>54355</td>\n",
       "      <td>19885</td>\n",
       "      <td>1</td>\n",
       "      <td>178</td>\n",
       "      <td>74.0</td>\n",
       "      <td>150</td>\n",
       "      <td>100</td>\n",
       "      <td>1</td>\n",
       "      <td>1</td>\n",
       "      <td>0</td>\n",
       "      <td>0</td>\n",
       "      <td>1</td>\n",
       "      <td>1</td>\n",
       "    </tr>\n",
       "  </tbody>\n",
       "</table>\n",
       "</div>"
      ],
      "text/plain": [
       "          id    age  gender  height  weight  ap_hi  ap_lo  cholesterol  gluc  \\\n",
       "54271  77391  23381       1     162    70.0    120     80            3     1   \n",
       "63189  90231  18135       2     183   112.0    120     80            1     1   \n",
       "37654  53772  15983       2     168    68.0    120     80            1     1   \n",
       "69888  99825  22050       1     165    58.0    150     90            3     1   \n",
       "38081  54355  19885       1     178    74.0    150    100            1     1   \n",
       "\n",
       "       smoke  alco  active  cardio  \n",
       "54271      0     0       1       1  \n",
       "63189      0     0       1       1  \n",
       "37654      0     0       1       0  \n",
       "69888      0     0       1       1  \n",
       "38081      0     0       1       1  "
      ]
     },
     "execution_count": 6,
     "metadata": {},
     "output_type": "execute_result"
    }
   ],
   "source": [
    "df.head()"
   ]
  },
  {
   "cell_type": "code",
   "execution_count": 7,
   "metadata": {},
   "outputs": [
    {
     "data": {
      "text/plain": [
       "(17500, 13)"
      ]
     },
     "execution_count": 7,
     "metadata": {},
     "output_type": "execute_result"
    }
   ],
   "source": [
    "df.shape"
   ]
  },
  {
   "cell_type": "code",
   "execution_count": 8,
   "metadata": {
    "colab": {
     "base_uri": "https://localhost:8080/"
    },
    "id": "WwqHTuEZ2sUs",
    "outputId": "448bab54-3724-44fd-cbbd-e6e30443e4b0"
   },
   "outputs": [
    {
     "name": "stdout",
     "output_type": "stream",
     "text": [
      "<class 'pandas.core.frame.DataFrame'>\n",
      "Int64Index: 17500 entries, 54271 to 60641\n",
      "Data columns (total 13 columns):\n",
      " #   Column       Non-Null Count  Dtype  \n",
      "---  ------       --------------  -----  \n",
      " 0   id           17500 non-null  int64  \n",
      " 1   age          17500 non-null  int64  \n",
      " 2   gender       17500 non-null  int64  \n",
      " 3   height       17500 non-null  int64  \n",
      " 4   weight       17500 non-null  float64\n",
      " 5   ap_hi        17500 non-null  int64  \n",
      " 6   ap_lo        17500 non-null  int64  \n",
      " 7   cholesterol  17500 non-null  int64  \n",
      " 8   gluc         17500 non-null  int64  \n",
      " 9   smoke        17500 non-null  int64  \n",
      " 10  alco         17500 non-null  int64  \n",
      " 11  active       17500 non-null  int64  \n",
      " 12  cardio       17500 non-null  int64  \n",
      "dtypes: float64(1), int64(12)\n",
      "memory usage: 1.9 MB\n"
     ]
    },
    {
     "data": {
      "text/plain": [
       "54271    23381\n",
       "63189    18135\n",
       "37654    15983\n",
       "69888    22050\n",
       "38081    19885\n",
       "         ...  \n",
       "1461     22556\n",
       "15816    19900\n",
       "58422    18959\n",
       "7585     21231\n",
       "60641    18939\n",
       "Name: age, Length: 17500, dtype: int64"
      ]
     },
     "execution_count": 8,
     "metadata": {},
     "output_type": "execute_result"
    }
   ],
   "source": [
    "df.info()\n",
    "df[\"age\"]"
   ]
  },
  {
   "cell_type": "code",
   "execution_count": 9,
   "metadata": {
    "colab": {
     "base_uri": "https://localhost:8080/",
     "height": 206
    },
    "id": "cc6Dt6HB8_Ro",
    "outputId": "9e9165a7-fb98-45a8-c75c-d40615c1104b",
    "scrolled": true
   },
   "outputs": [
    {
     "data": {
      "text/html": [
       "<div>\n",
       "<style scoped>\n",
       "    .dataframe tbody tr th:only-of-type {\n",
       "        vertical-align: middle;\n",
       "    }\n",
       "\n",
       "    .dataframe tbody tr th {\n",
       "        vertical-align: top;\n",
       "    }\n",
       "\n",
       "    .dataframe thead th {\n",
       "        text-align: right;\n",
       "    }\n",
       "</style>\n",
       "<table border=\"1\" class=\"dataframe\">\n",
       "  <thead>\n",
       "    <tr style=\"text-align: right;\">\n",
       "      <th></th>\n",
       "      <th>id</th>\n",
       "      <th>gender</th>\n",
       "      <th>height</th>\n",
       "      <th>weight</th>\n",
       "      <th>ap_hi</th>\n",
       "      <th>ap_lo</th>\n",
       "      <th>cholesterol</th>\n",
       "      <th>gluc</th>\n",
       "      <th>smoke</th>\n",
       "      <th>alco</th>\n",
       "      <th>active</th>\n",
       "      <th>cardio</th>\n",
       "      <th>Age</th>\n",
       "    </tr>\n",
       "  </thead>\n",
       "  <tbody>\n",
       "    <tr>\n",
       "      <th>54271</th>\n",
       "      <td>77391</td>\n",
       "      <td>1</td>\n",
       "      <td>162</td>\n",
       "      <td>70.0</td>\n",
       "      <td>120</td>\n",
       "      <td>80</td>\n",
       "      <td>3</td>\n",
       "      <td>1</td>\n",
       "      <td>0</td>\n",
       "      <td>0</td>\n",
       "      <td>1</td>\n",
       "      <td>1</td>\n",
       "      <td>64.057534</td>\n",
       "    </tr>\n",
       "    <tr>\n",
       "      <th>63189</th>\n",
       "      <td>90231</td>\n",
       "      <td>2</td>\n",
       "      <td>183</td>\n",
       "      <td>112.0</td>\n",
       "      <td>120</td>\n",
       "      <td>80</td>\n",
       "      <td>1</td>\n",
       "      <td>1</td>\n",
       "      <td>0</td>\n",
       "      <td>0</td>\n",
       "      <td>1</td>\n",
       "      <td>1</td>\n",
       "      <td>49.684932</td>\n",
       "    </tr>\n",
       "    <tr>\n",
       "      <th>37654</th>\n",
       "      <td>53772</td>\n",
       "      <td>2</td>\n",
       "      <td>168</td>\n",
       "      <td>68.0</td>\n",
       "      <td>120</td>\n",
       "      <td>80</td>\n",
       "      <td>1</td>\n",
       "      <td>1</td>\n",
       "      <td>0</td>\n",
       "      <td>0</td>\n",
       "      <td>1</td>\n",
       "      <td>0</td>\n",
       "      <td>43.789041</td>\n",
       "    </tr>\n",
       "    <tr>\n",
       "      <th>69888</th>\n",
       "      <td>99825</td>\n",
       "      <td>1</td>\n",
       "      <td>165</td>\n",
       "      <td>58.0</td>\n",
       "      <td>150</td>\n",
       "      <td>90</td>\n",
       "      <td>3</td>\n",
       "      <td>1</td>\n",
       "      <td>0</td>\n",
       "      <td>0</td>\n",
       "      <td>1</td>\n",
       "      <td>1</td>\n",
       "      <td>60.410959</td>\n",
       "    </tr>\n",
       "    <tr>\n",
       "      <th>38081</th>\n",
       "      <td>54355</td>\n",
       "      <td>1</td>\n",
       "      <td>178</td>\n",
       "      <td>74.0</td>\n",
       "      <td>150</td>\n",
       "      <td>100</td>\n",
       "      <td>1</td>\n",
       "      <td>1</td>\n",
       "      <td>0</td>\n",
       "      <td>0</td>\n",
       "      <td>1</td>\n",
       "      <td>1</td>\n",
       "      <td>54.479452</td>\n",
       "    </tr>\n",
       "  </tbody>\n",
       "</table>\n",
       "</div>"
      ],
      "text/plain": [
       "          id  gender  height  weight  ap_hi  ap_lo  cholesterol  gluc  smoke  \\\n",
       "54271  77391       1     162    70.0    120     80            3     1      0   \n",
       "63189  90231       2     183   112.0    120     80            1     1      0   \n",
       "37654  53772       2     168    68.0    120     80            1     1      0   \n",
       "69888  99825       1     165    58.0    150     90            3     1      0   \n",
       "38081  54355       1     178    74.0    150    100            1     1      0   \n",
       "\n",
       "       alco  active  cardio        Age  \n",
       "54271     0       1       1  64.057534  \n",
       "63189     0       1       1  49.684932  \n",
       "37654     0       1       0  43.789041  \n",
       "69888     0       1       1  60.410959  \n",
       "38081     0       1       1  54.479452  "
      ]
     },
     "execution_count": 9,
     "metadata": {},
     "output_type": "execute_result"
    }
   ],
   "source": [
    "df[\"Age\"] = df[\"age\"]/365\n",
    "del df[\"age\"]\n",
    "df.head()"
   ]
  },
  {
   "cell_type": "code",
   "execution_count": 10,
   "metadata": {},
   "outputs": [],
   "source": [
    "df['height'] = df['height']/100"
   ]
  },
  {
   "cell_type": "code",
   "execution_count": 11,
   "metadata": {},
   "outputs": [
    {
     "data": {
      "text/plain": [
       "54271    1.62\n",
       "63189    1.83\n",
       "37654    1.68\n",
       "69888    1.65\n",
       "38081    1.78\n",
       "         ... \n",
       "1461     1.74\n",
       "15816    1.60\n",
       "58422    1.65\n",
       "7585     1.49\n",
       "60641    1.78\n",
       "Name: height, Length: 17500, dtype: float64"
      ]
     },
     "execution_count": 11,
     "metadata": {},
     "output_type": "execute_result"
    }
   ],
   "source": [
    "df['height']"
   ]
  },
  {
   "cell_type": "code",
   "execution_count": 12,
   "metadata": {},
   "outputs": [],
   "source": [
    "df['bmi'] = df['weight']/((df['height'])**2)"
   ]
  },
  {
   "cell_type": "code",
   "execution_count": 13,
   "metadata": {},
   "outputs": [],
   "source": [
    "del df['weight']\n",
    "del df['height']"
   ]
  },
  {
   "cell_type": "code",
   "execution_count": 14,
   "metadata": {},
   "outputs": [
    {
     "data": {
      "text/html": [
       "<div>\n",
       "<style scoped>\n",
       "    .dataframe tbody tr th:only-of-type {\n",
       "        vertical-align: middle;\n",
       "    }\n",
       "\n",
       "    .dataframe tbody tr th {\n",
       "        vertical-align: top;\n",
       "    }\n",
       "\n",
       "    .dataframe thead th {\n",
       "        text-align: right;\n",
       "    }\n",
       "</style>\n",
       "<table border=\"1\" class=\"dataframe\">\n",
       "  <thead>\n",
       "    <tr style=\"text-align: right;\">\n",
       "      <th></th>\n",
       "      <th>id</th>\n",
       "      <th>gender</th>\n",
       "      <th>ap_hi</th>\n",
       "      <th>ap_lo</th>\n",
       "      <th>cholesterol</th>\n",
       "      <th>gluc</th>\n",
       "      <th>smoke</th>\n",
       "      <th>alco</th>\n",
       "      <th>active</th>\n",
       "      <th>cardio</th>\n",
       "      <th>Age</th>\n",
       "      <th>bmi</th>\n",
       "    </tr>\n",
       "  </thead>\n",
       "  <tbody>\n",
       "    <tr>\n",
       "      <th>54271</th>\n",
       "      <td>77391</td>\n",
       "      <td>1</td>\n",
       "      <td>120</td>\n",
       "      <td>80</td>\n",
       "      <td>3</td>\n",
       "      <td>1</td>\n",
       "      <td>0</td>\n",
       "      <td>0</td>\n",
       "      <td>1</td>\n",
       "      <td>1</td>\n",
       "      <td>64.057534</td>\n",
       "      <td>26.672763</td>\n",
       "    </tr>\n",
       "    <tr>\n",
       "      <th>63189</th>\n",
       "      <td>90231</td>\n",
       "      <td>2</td>\n",
       "      <td>120</td>\n",
       "      <td>80</td>\n",
       "      <td>1</td>\n",
       "      <td>1</td>\n",
       "      <td>0</td>\n",
       "      <td>0</td>\n",
       "      <td>1</td>\n",
       "      <td>1</td>\n",
       "      <td>49.684932</td>\n",
       "      <td>33.443817</td>\n",
       "    </tr>\n",
       "    <tr>\n",
       "      <th>37654</th>\n",
       "      <td>53772</td>\n",
       "      <td>2</td>\n",
       "      <td>120</td>\n",
       "      <td>80</td>\n",
       "      <td>1</td>\n",
       "      <td>1</td>\n",
       "      <td>0</td>\n",
       "      <td>0</td>\n",
       "      <td>1</td>\n",
       "      <td>0</td>\n",
       "      <td>43.789041</td>\n",
       "      <td>24.092971</td>\n",
       "    </tr>\n",
       "    <tr>\n",
       "      <th>69888</th>\n",
       "      <td>99825</td>\n",
       "      <td>1</td>\n",
       "      <td>150</td>\n",
       "      <td>90</td>\n",
       "      <td>3</td>\n",
       "      <td>1</td>\n",
       "      <td>0</td>\n",
       "      <td>0</td>\n",
       "      <td>1</td>\n",
       "      <td>1</td>\n",
       "      <td>60.410959</td>\n",
       "      <td>21.303949</td>\n",
       "    </tr>\n",
       "    <tr>\n",
       "      <th>38081</th>\n",
       "      <td>54355</td>\n",
       "      <td>1</td>\n",
       "      <td>150</td>\n",
       "      <td>100</td>\n",
       "      <td>1</td>\n",
       "      <td>1</td>\n",
       "      <td>0</td>\n",
       "      <td>0</td>\n",
       "      <td>1</td>\n",
       "      <td>1</td>\n",
       "      <td>54.479452</td>\n",
       "      <td>23.355637</td>\n",
       "    </tr>\n",
       "  </tbody>\n",
       "</table>\n",
       "</div>"
      ],
      "text/plain": [
       "          id  gender  ap_hi  ap_lo  cholesterol  gluc  smoke  alco  active  \\\n",
       "54271  77391       1    120     80            3     1      0     0       1   \n",
       "63189  90231       2    120     80            1     1      0     0       1   \n",
       "37654  53772       2    120     80            1     1      0     0       1   \n",
       "69888  99825       1    150     90            3     1      0     0       1   \n",
       "38081  54355       1    150    100            1     1      0     0       1   \n",
       "\n",
       "       cardio        Age        bmi  \n",
       "54271       1  64.057534  26.672763  \n",
       "63189       1  49.684932  33.443817  \n",
       "37654       0  43.789041  24.092971  \n",
       "69888       1  60.410959  21.303949  \n",
       "38081       1  54.479452  23.355637  "
      ]
     },
     "execution_count": 14,
     "metadata": {},
     "output_type": "execute_result"
    }
   ],
   "source": [
    "df.head()"
   ]
  },
  {
   "cell_type": "code",
   "execution_count": 15,
   "metadata": {},
   "outputs": [
    {
     "data": {
      "text/plain": [
       "54271    26.672763\n",
       "63189    33.443817\n",
       "37654    24.092971\n",
       "69888    21.303949\n",
       "38081    23.355637\n",
       "           ...    \n",
       "1461     24.441802\n",
       "15816    28.125000\n",
       "58422    24.609734\n",
       "7585     31.530111\n",
       "60641    19.568236\n",
       "Name: bmi, Length: 17500, dtype: float64"
      ]
     },
     "execution_count": 15,
     "metadata": {},
     "output_type": "execute_result"
    }
   ],
   "source": [
    " df['bmi']"
   ]
  },
  {
   "cell_type": "code",
   "execution_count": 16,
   "metadata": {
    "colab": {
     "base_uri": "https://localhost:8080/",
     "height": 206
    },
    "id": "U8BshcD2-VVY",
    "outputId": "0f4e4a35-b2e8-4ad4-a887-65ebf0141111",
    "scrolled": true
   },
   "outputs": [
    {
     "data": {
      "text/html": [
       "<div>\n",
       "<style scoped>\n",
       "    .dataframe tbody tr th:only-of-type {\n",
       "        vertical-align: middle;\n",
       "    }\n",
       "\n",
       "    .dataframe tbody tr th {\n",
       "        vertical-align: top;\n",
       "    }\n",
       "\n",
       "    .dataframe thead th {\n",
       "        text-align: right;\n",
       "    }\n",
       "</style>\n",
       "<table border=\"1\" class=\"dataframe\">\n",
       "  <thead>\n",
       "    <tr style=\"text-align: right;\">\n",
       "      <th></th>\n",
       "      <th>gender</th>\n",
       "      <th>ap_hi</th>\n",
       "      <th>ap_lo</th>\n",
       "      <th>cholesterol</th>\n",
       "      <th>gluc</th>\n",
       "      <th>smoke</th>\n",
       "      <th>alco</th>\n",
       "      <th>active</th>\n",
       "      <th>cardio</th>\n",
       "      <th>bmi</th>\n",
       "      <th>age</th>\n",
       "    </tr>\n",
       "  </thead>\n",
       "  <tbody>\n",
       "    <tr>\n",
       "      <th>54271</th>\n",
       "      <td>1</td>\n",
       "      <td>120</td>\n",
       "      <td>80</td>\n",
       "      <td>3</td>\n",
       "      <td>1</td>\n",
       "      <td>0</td>\n",
       "      <td>0</td>\n",
       "      <td>1</td>\n",
       "      <td>1</td>\n",
       "      <td>26.672763</td>\n",
       "      <td>64.0</td>\n",
       "    </tr>\n",
       "    <tr>\n",
       "      <th>63189</th>\n",
       "      <td>2</td>\n",
       "      <td>120</td>\n",
       "      <td>80</td>\n",
       "      <td>1</td>\n",
       "      <td>1</td>\n",
       "      <td>0</td>\n",
       "      <td>0</td>\n",
       "      <td>1</td>\n",
       "      <td>1</td>\n",
       "      <td>33.443817</td>\n",
       "      <td>50.0</td>\n",
       "    </tr>\n",
       "    <tr>\n",
       "      <th>37654</th>\n",
       "      <td>2</td>\n",
       "      <td>120</td>\n",
       "      <td>80</td>\n",
       "      <td>1</td>\n",
       "      <td>1</td>\n",
       "      <td>0</td>\n",
       "      <td>0</td>\n",
       "      <td>1</td>\n",
       "      <td>0</td>\n",
       "      <td>24.092971</td>\n",
       "      <td>44.0</td>\n",
       "    </tr>\n",
       "    <tr>\n",
       "      <th>69888</th>\n",
       "      <td>1</td>\n",
       "      <td>150</td>\n",
       "      <td>90</td>\n",
       "      <td>3</td>\n",
       "      <td>1</td>\n",
       "      <td>0</td>\n",
       "      <td>0</td>\n",
       "      <td>1</td>\n",
       "      <td>1</td>\n",
       "      <td>21.303949</td>\n",
       "      <td>60.0</td>\n",
       "    </tr>\n",
       "    <tr>\n",
       "      <th>38081</th>\n",
       "      <td>1</td>\n",
       "      <td>150</td>\n",
       "      <td>100</td>\n",
       "      <td>1</td>\n",
       "      <td>1</td>\n",
       "      <td>0</td>\n",
       "      <td>0</td>\n",
       "      <td>1</td>\n",
       "      <td>1</td>\n",
       "      <td>23.355637</td>\n",
       "      <td>54.0</td>\n",
       "    </tr>\n",
       "  </tbody>\n",
       "</table>\n",
       "</div>"
      ],
      "text/plain": [
       "       gender  ap_hi  ap_lo  cholesterol  gluc  smoke  alco  active  cardio  \\\n",
       "54271       1    120     80            3     1      0     0       1       1   \n",
       "63189       2    120     80            1     1      0     0       1       1   \n",
       "37654       2    120     80            1     1      0     0       1       0   \n",
       "69888       1    150     90            3     1      0     0       1       1   \n",
       "38081       1    150    100            1     1      0     0       1       1   \n",
       "\n",
       "             bmi   age  \n",
       "54271  26.672763  64.0  \n",
       "63189  33.443817  50.0  \n",
       "37654  24.092971  44.0  \n",
       "69888  21.303949  60.0  \n",
       "38081  23.355637  54.0  "
      ]
     },
     "execution_count": 16,
     "metadata": {},
     "output_type": "execute_result"
    }
   ],
   "source": [
    "df[\"age\"] = df[\"Age\"].round()\n",
    "del df[\"Age\"]\n",
    "del df['id']\n",
    "df.head()"
   ]
  },
  {
   "cell_type": "code",
   "execution_count": 17,
   "metadata": {},
   "outputs": [
    {
     "data": {
      "text/html": [
       "<div>\n",
       "<style scoped>\n",
       "    .dataframe tbody tr th:only-of-type {\n",
       "        vertical-align: middle;\n",
       "    }\n",
       "\n",
       "    .dataframe tbody tr th {\n",
       "        vertical-align: top;\n",
       "    }\n",
       "\n",
       "    .dataframe thead th {\n",
       "        text-align: right;\n",
       "    }\n",
       "</style>\n",
       "<table border=\"1\" class=\"dataframe\">\n",
       "  <thead>\n",
       "    <tr style=\"text-align: right;\">\n",
       "      <th></th>\n",
       "      <th>gender</th>\n",
       "      <th>ap_hi</th>\n",
       "      <th>ap_lo</th>\n",
       "      <th>cholesterol</th>\n",
       "      <th>gluc</th>\n",
       "      <th>smoke</th>\n",
       "      <th>alco</th>\n",
       "      <th>active</th>\n",
       "      <th>cardio</th>\n",
       "      <th>bmi</th>\n",
       "      <th>age</th>\n",
       "    </tr>\n",
       "  </thead>\n",
       "  <tbody>\n",
       "    <tr>\n",
       "      <th>54271</th>\n",
       "      <td>1</td>\n",
       "      <td>120</td>\n",
       "      <td>80</td>\n",
       "      <td>3</td>\n",
       "      <td>1</td>\n",
       "      <td>0</td>\n",
       "      <td>0</td>\n",
       "      <td>1</td>\n",
       "      <td>1</td>\n",
       "      <td>27.0</td>\n",
       "      <td>64.0</td>\n",
       "    </tr>\n",
       "    <tr>\n",
       "      <th>63189</th>\n",
       "      <td>2</td>\n",
       "      <td>120</td>\n",
       "      <td>80</td>\n",
       "      <td>1</td>\n",
       "      <td>1</td>\n",
       "      <td>0</td>\n",
       "      <td>0</td>\n",
       "      <td>1</td>\n",
       "      <td>1</td>\n",
       "      <td>33.0</td>\n",
       "      <td>50.0</td>\n",
       "    </tr>\n",
       "    <tr>\n",
       "      <th>37654</th>\n",
       "      <td>2</td>\n",
       "      <td>120</td>\n",
       "      <td>80</td>\n",
       "      <td>1</td>\n",
       "      <td>1</td>\n",
       "      <td>0</td>\n",
       "      <td>0</td>\n",
       "      <td>1</td>\n",
       "      <td>0</td>\n",
       "      <td>24.0</td>\n",
       "      <td>44.0</td>\n",
       "    </tr>\n",
       "    <tr>\n",
       "      <th>69888</th>\n",
       "      <td>1</td>\n",
       "      <td>150</td>\n",
       "      <td>90</td>\n",
       "      <td>3</td>\n",
       "      <td>1</td>\n",
       "      <td>0</td>\n",
       "      <td>0</td>\n",
       "      <td>1</td>\n",
       "      <td>1</td>\n",
       "      <td>21.0</td>\n",
       "      <td>60.0</td>\n",
       "    </tr>\n",
       "    <tr>\n",
       "      <th>38081</th>\n",
       "      <td>1</td>\n",
       "      <td>150</td>\n",
       "      <td>100</td>\n",
       "      <td>1</td>\n",
       "      <td>1</td>\n",
       "      <td>0</td>\n",
       "      <td>0</td>\n",
       "      <td>1</td>\n",
       "      <td>1</td>\n",
       "      <td>23.0</td>\n",
       "      <td>54.0</td>\n",
       "    </tr>\n",
       "  </tbody>\n",
       "</table>\n",
       "</div>"
      ],
      "text/plain": [
       "       gender  ap_hi  ap_lo  cholesterol  gluc  smoke  alco  active  cardio  \\\n",
       "54271       1    120     80            3     1      0     0       1       1   \n",
       "63189       2    120     80            1     1      0     0       1       1   \n",
       "37654       2    120     80            1     1      0     0       1       0   \n",
       "69888       1    150     90            3     1      0     0       1       1   \n",
       "38081       1    150    100            1     1      0     0       1       1   \n",
       "\n",
       "        bmi   age  \n",
       "54271  27.0  64.0  \n",
       "63189  33.0  50.0  \n",
       "37654  24.0  44.0  \n",
       "69888  21.0  60.0  \n",
       "38081  23.0  54.0  "
      ]
     },
     "execution_count": 17,
     "metadata": {},
     "output_type": "execute_result"
    }
   ],
   "source": [
    "df['bmi'] = df['bmi'].round()\n",
    "df.head()"
   ]
  },
  {
   "cell_type": "code",
   "execution_count": 18,
   "metadata": {
    "colab": {
     "base_uri": "https://localhost:8080/",
     "height": 206
    },
    "id": "tXOgHrXG-bqM",
    "outputId": "cc99899f-7b8d-4ccd-e2ed-b13f1af6dfe4",
    "scrolled": true
   },
   "outputs": [
    {
     "data": {
      "text/html": [
       "<div>\n",
       "<style scoped>\n",
       "    .dataframe tbody tr th:only-of-type {\n",
       "        vertical-align: middle;\n",
       "    }\n",
       "\n",
       "    .dataframe tbody tr th {\n",
       "        vertical-align: top;\n",
       "    }\n",
       "\n",
       "    .dataframe thead th {\n",
       "        text-align: right;\n",
       "    }\n",
       "</style>\n",
       "<table border=\"1\" class=\"dataframe\">\n",
       "  <thead>\n",
       "    <tr style=\"text-align: right;\">\n",
       "      <th></th>\n",
       "      <th>gender</th>\n",
       "      <th>ap_hi</th>\n",
       "      <th>ap_lo</th>\n",
       "      <th>cholesterol</th>\n",
       "      <th>gluc</th>\n",
       "      <th>smoke</th>\n",
       "      <th>alco</th>\n",
       "      <th>active</th>\n",
       "      <th>cardio</th>\n",
       "      <th>bmi</th>\n",
       "      <th>age</th>\n",
       "    </tr>\n",
       "  </thead>\n",
       "  <tbody>\n",
       "    <tr>\n",
       "      <th>54271</th>\n",
       "      <td>1</td>\n",
       "      <td>120</td>\n",
       "      <td>80</td>\n",
       "      <td>3</td>\n",
       "      <td>1</td>\n",
       "      <td>0</td>\n",
       "      <td>0</td>\n",
       "      <td>1</td>\n",
       "      <td>1</td>\n",
       "      <td>27.0</td>\n",
       "      <td>64.0</td>\n",
       "    </tr>\n",
       "    <tr>\n",
       "      <th>63189</th>\n",
       "      <td>2</td>\n",
       "      <td>120</td>\n",
       "      <td>80</td>\n",
       "      <td>1</td>\n",
       "      <td>1</td>\n",
       "      <td>0</td>\n",
       "      <td>0</td>\n",
       "      <td>1</td>\n",
       "      <td>1</td>\n",
       "      <td>33.0</td>\n",
       "      <td>50.0</td>\n",
       "    </tr>\n",
       "    <tr>\n",
       "      <th>37654</th>\n",
       "      <td>2</td>\n",
       "      <td>120</td>\n",
       "      <td>80</td>\n",
       "      <td>1</td>\n",
       "      <td>1</td>\n",
       "      <td>0</td>\n",
       "      <td>0</td>\n",
       "      <td>1</td>\n",
       "      <td>0</td>\n",
       "      <td>24.0</td>\n",
       "      <td>44.0</td>\n",
       "    </tr>\n",
       "    <tr>\n",
       "      <th>69888</th>\n",
       "      <td>1</td>\n",
       "      <td>150</td>\n",
       "      <td>90</td>\n",
       "      <td>3</td>\n",
       "      <td>1</td>\n",
       "      <td>0</td>\n",
       "      <td>0</td>\n",
       "      <td>1</td>\n",
       "      <td>1</td>\n",
       "      <td>21.0</td>\n",
       "      <td>60.0</td>\n",
       "    </tr>\n",
       "    <tr>\n",
       "      <th>38081</th>\n",
       "      <td>1</td>\n",
       "      <td>150</td>\n",
       "      <td>100</td>\n",
       "      <td>1</td>\n",
       "      <td>1</td>\n",
       "      <td>0</td>\n",
       "      <td>0</td>\n",
       "      <td>1</td>\n",
       "      <td>1</td>\n",
       "      <td>23.0</td>\n",
       "      <td>54.0</td>\n",
       "    </tr>\n",
       "  </tbody>\n",
       "</table>\n",
       "</div>"
      ],
      "text/plain": [
       "       gender  ap_hi  ap_lo  cholesterol  gluc  smoke  alco  active  cardio  \\\n",
       "54271       1    120     80            3     1      0     0       1       1   \n",
       "63189       2    120     80            1     1      0     0       1       1   \n",
       "37654       2    120     80            1     1      0     0       1       0   \n",
       "69888       1    150     90            3     1      0     0       1       1   \n",
       "38081       1    150    100            1     1      0     0       1       1   \n",
       "\n",
       "        bmi   age  \n",
       "54271  27.0  64.0  \n",
       "63189  33.0  50.0  \n",
       "37654  24.0  44.0  \n",
       "69888  21.0  60.0  \n",
       "38081  23.0  54.0  "
      ]
     },
     "execution_count": 18,
     "metadata": {},
     "output_type": "execute_result"
    }
   ],
   "source": [
    "df = df[[\"gender\", \"ap_hi\", \"ap_lo\", \"cholesterol\", \"gluc\",\n",
    "         \"smoke\", \"alco\", \"active\", \"cardio\", \"bmi\", \"age\"]]\n",
    "df.head()"
   ]
  },
  {
   "cell_type": "code",
   "execution_count": 19,
   "metadata": {},
   "outputs": [],
   "source": [
    "scaler = MinMaxScaler()"
   ]
  },
  {
   "cell_type": "code",
   "execution_count": 20,
   "metadata": {},
   "outputs": [],
   "source": [
    "df[[\"gender\", \"ap_hi\", \"ap_lo\", \"cholesterol\", \"gluc\",\n",
    "         \"smoke\", \"alco\", \"active\", \"cardio\", \"bmi\", \"age\"]] = scaler.fit_transform(df[[\"gender\", \"ap_hi\", \"ap_lo\", \"cholesterol\", \"gluc\",\n",
    "         \"smoke\", \"alco\", \"active\", \"cardio\", \"bmi\", \"age\"]])"
   ]
  },
  {
   "cell_type": "code",
   "execution_count": 21,
   "metadata": {},
   "outputs": [
    {
     "data": {
      "text/html": [
       "<div>\n",
       "<style scoped>\n",
       "    .dataframe tbody tr th:only-of-type {\n",
       "        vertical-align: middle;\n",
       "    }\n",
       "\n",
       "    .dataframe tbody tr th {\n",
       "        vertical-align: top;\n",
       "    }\n",
       "\n",
       "    .dataframe thead th {\n",
       "        text-align: right;\n",
       "    }\n",
       "</style>\n",
       "<table border=\"1\" class=\"dataframe\">\n",
       "  <thead>\n",
       "    <tr style=\"text-align: right;\">\n",
       "      <th></th>\n",
       "      <th>gender</th>\n",
       "      <th>ap_hi</th>\n",
       "      <th>ap_lo</th>\n",
       "      <th>cholesterol</th>\n",
       "      <th>gluc</th>\n",
       "      <th>smoke</th>\n",
       "      <th>alco</th>\n",
       "      <th>active</th>\n",
       "      <th>cardio</th>\n",
       "      <th>bmi</th>\n",
       "      <th>age</th>\n",
       "    </tr>\n",
       "  </thead>\n",
       "  <tbody>\n",
       "    <tr>\n",
       "      <th>54271</th>\n",
       "      <td>0.0</td>\n",
       "      <td>0.016973</td>\n",
       "      <td>0.008</td>\n",
       "      <td>1.0</td>\n",
       "      <td>0.0</td>\n",
       "      <td>0.0</td>\n",
       "      <td>0.0</td>\n",
       "      <td>1.0</td>\n",
       "      <td>1.0</td>\n",
       "      <td>0.148148</td>\n",
       "      <td>0.961538</td>\n",
       "    </tr>\n",
       "    <tr>\n",
       "      <th>63189</th>\n",
       "      <td>1.0</td>\n",
       "      <td>0.016973</td>\n",
       "      <td>0.008</td>\n",
       "      <td>0.0</td>\n",
       "      <td>0.0</td>\n",
       "      <td>0.0</td>\n",
       "      <td>0.0</td>\n",
       "      <td>1.0</td>\n",
       "      <td>1.0</td>\n",
       "      <td>0.192593</td>\n",
       "      <td>0.423077</td>\n",
       "    </tr>\n",
       "    <tr>\n",
       "      <th>37654</th>\n",
       "      <td>1.0</td>\n",
       "      <td>0.016973</td>\n",
       "      <td>0.008</td>\n",
       "      <td>0.0</td>\n",
       "      <td>0.0</td>\n",
       "      <td>0.0</td>\n",
       "      <td>0.0</td>\n",
       "      <td>1.0</td>\n",
       "      <td>0.0</td>\n",
       "      <td>0.125926</td>\n",
       "      <td>0.192308</td>\n",
       "    </tr>\n",
       "    <tr>\n",
       "      <th>69888</th>\n",
       "      <td>0.0</td>\n",
       "      <td>0.019095</td>\n",
       "      <td>0.009</td>\n",
       "      <td>1.0</td>\n",
       "      <td>0.0</td>\n",
       "      <td>0.0</td>\n",
       "      <td>0.0</td>\n",
       "      <td>1.0</td>\n",
       "      <td>1.0</td>\n",
       "      <td>0.103704</td>\n",
       "      <td>0.807692</td>\n",
       "    </tr>\n",
       "    <tr>\n",
       "      <th>38081</th>\n",
       "      <td>0.0</td>\n",
       "      <td>0.019095</td>\n",
       "      <td>0.010</td>\n",
       "      <td>0.0</td>\n",
       "      <td>0.0</td>\n",
       "      <td>0.0</td>\n",
       "      <td>0.0</td>\n",
       "      <td>1.0</td>\n",
       "      <td>1.0</td>\n",
       "      <td>0.118519</td>\n",
       "      <td>0.576923</td>\n",
       "    </tr>\n",
       "  </tbody>\n",
       "</table>\n",
       "</div>"
      ],
      "text/plain": [
       "       gender     ap_hi  ap_lo  cholesterol  gluc  smoke  alco  active  \\\n",
       "54271     0.0  0.016973  0.008          1.0   0.0    0.0   0.0     1.0   \n",
       "63189     1.0  0.016973  0.008          0.0   0.0    0.0   0.0     1.0   \n",
       "37654     1.0  0.016973  0.008          0.0   0.0    0.0   0.0     1.0   \n",
       "69888     0.0  0.019095  0.009          1.0   0.0    0.0   0.0     1.0   \n",
       "38081     0.0  0.019095  0.010          0.0   0.0    0.0   0.0     1.0   \n",
       "\n",
       "       cardio       bmi       age  \n",
       "54271     1.0  0.148148  0.961538  \n",
       "63189     1.0  0.192593  0.423077  \n",
       "37654     0.0  0.125926  0.192308  \n",
       "69888     1.0  0.103704  0.807692  \n",
       "38081     1.0  0.118519  0.576923  "
      ]
     },
     "execution_count": 21,
     "metadata": {},
     "output_type": "execute_result"
    }
   ],
   "source": [
    "df.head()"
   ]
  },
  {
   "cell_type": "code",
   "execution_count": 22,
   "metadata": {
    "colab": {
     "base_uri": "https://localhost:8080/",
     "height": 344
    },
    "id": "UDD4MJ9FcQjc",
    "outputId": "1d011316-0d17-40e6-d85d-b255db777cce"
   },
   "outputs": [
    {
     "data": {
      "text/plain": [
       "Text(0.5, 1.0, 'Correlation Plot')"
      ]
     },
     "execution_count": 22,
     "metadata": {},
     "output_type": "execute_result"
    },
    {
     "data": {
      "image/png": "[encoded data removed]",
      "text/plain": [
       "<Figure size 432x288 with 2 Axes>"
      ]
     },
     "metadata": {
      "needs_background": "light"
     },
     "output_type": "display_data"
    }
   ],
   "source": [
    "sns.heatmap(data = df.corr(), vmin = -1, vmax = 1, cmap = \"coolwarm\")\n",
    "plt.title(\"Correlation Plot\")"
   ]
  },
  {
   "cell_type": "code",
   "execution_count": 23,
   "metadata": {
    "colab": {
     "base_uri": "https://localhost:8080/",
     "height": 313
    },
    "id": "uloLGMVDAKru",
    "outputId": "7857a25b-2ab3-4b12-d909-9f9530d63d42"
   },
   "outputs": [
    {
     "data": {
      "text/plain": [
       "Text(0.5, 1.0, 'Presence of Heart Disease based on activity')"
      ]
     },
     "execution_count": 23,
     "metadata": {},
     "output_type": "execute_result"
    },
    {
     "data": {
      "image/png": "[encoded data removed]",
      "text/plain": [
       "<Figure size 432x288 with 1 Axes>"
      ]
     },
     "metadata": {
      "needs_background": "light"
     },
     "output_type": "display_data"
    }
   ],
   "source": [
    "sns.countplot(x = \"active\", hue = \"cardio\", data = df)\n",
    "plt.title(\"Presence of Heart Disease based on activity\")"
   ]
  },
  {
   "cell_type": "code",
   "execution_count": 24,
   "metadata": {
    "colab": {
     "base_uri": "https://localhost:8080/",
     "height": 313
    },
    "id": "xVMu5nIwAKtj",
    "outputId": "0950632a-46d3-47d8-de4b-ba0d9d826f37"
   },
   "outputs": [
    {
     "data": {
      "text/plain": [
       "Text(0.5, 1.0, 'Presence of Heart Disease based on age')"
      ]
     },
     "execution_count": 24,
     "metadata": {},
     "output_type": "execute_result"
    },
    {
     "data": {
      "image/png": "[encoded data removed]",
      "text/plain": [
       "<Figure size 432x288 with 1 Axes>"
      ]
     },
     "metadata": {
      "needs_background": "light"
     },
     "output_type": "display_data"
    }
   ],
   "source": [
    "sns.countplot(x = \"age\", hue = \"cardio\", data = df)\n",
    "plt.title(\"Presence of Heart Disease based on age\")"
   ]
  },
  {
   "cell_type": "code",
   "execution_count": 25,
   "metadata": {
    "colab": {
     "base_uri": "https://localhost:8080/",
     "height": 313
    },
    "id": "0cJKq8EsAKwW",
    "outputId": "bea62281-39a7-4fa9-f9c1-3687456159b2"
   },
   "outputs": [
    {
     "data": {
      "text/plain": [
       "Text(0.5, 1.0, 'Presence of Heart Disease based on cholesterol')"
      ]
     },
     "execution_count": 25,
     "metadata": {},
     "output_type": "execute_result"
    },
    {
     "data": {
      "image/png": "[encoded data removed]",
      "text/plain": [
       "<Figure size 432x288 with 1 Axes>"
      ]
     },
     "metadata": {
      "needs_background": "light"
     },
     "output_type": "display_data"
    }
   ],
   "source": [
    "sns.countplot(x = \"cholesterol\", hue = \"cardio\", data = df)\n",
    "plt.title(\"Presence of Heart Disease based on cholesterol\")"
   ]
  },
  {
   "cell_type": "code",
   "execution_count": 26,
   "metadata": {
    "id": "UYUE-iqU2NHs"
   },
   "outputs": [],
   "source": [
    "X = df.drop(\"cardio\", axis = 1)\n",
    "y = df[\"cardio\"]"
   ]
  },
  {
   "cell_type": "markdown",
   "metadata": {
    "id": "t7liajCQQWDo"
   },
   "source": [
    "## Multicolinearity & Feature Selection"
   ]
  },
  {
   "cell_type": "code",
   "execution_count": 27,
   "metadata": {
    "colab": {
     "base_uri": "https://localhost:8080/"
    },
    "id": "CWgIURSoQa5R",
    "outputId": "3a063eab-c3db-4089-8470-7d1d206fd283"
   },
   "outputs": [],
   "source": [
    "import statsmodels.api as sm\n",
    "from statsmodels.stats.outliers_influence import variance_inflation_factor"
   ]
  },
  {
   "cell_type": "code",
   "execution_count": 28,
   "metadata": {
    "colab": {
     "base_uri": "https://localhost:8080/",
     "height": 457
    },
    "id": "YRGkkMCycOsE",
    "outputId": "f7b964fe-096e-4bf8-f0b6-51ef1142bdfc"
   },
   "outputs": [
    {
     "data": {
      "text/html": [
       "<div>\n",
       "<style scoped>\n",
       "    .dataframe tbody tr th:only-of-type {\n",
       "        vertical-align: middle;\n",
       "    }\n",
       "\n",
       "    .dataframe tbody tr th {\n",
       "        vertical-align: top;\n",
       "    }\n",
       "\n",
       "    .dataframe thead th {\n",
       "        text-align: right;\n",
       "    }\n",
       "</style>\n",
       "<table border=\"1\" class=\"dataframe\">\n",
       "  <thead>\n",
       "    <tr style=\"text-align: right;\">\n",
       "      <th></th>\n",
       "      <th>VIF</th>\n",
       "      <th>Column</th>\n",
       "    </tr>\n",
       "  </thead>\n",
       "  <tbody>\n",
       "    <tr>\n",
       "      <th>1</th>\n",
       "      <td>13.537926</td>\n",
       "      <td>ap_hi</td>\n",
       "    </tr>\n",
       "    <tr>\n",
       "      <th>10</th>\n",
       "      <td>10.399617</td>\n",
       "      <td>age</td>\n",
       "    </tr>\n",
       "    <tr>\n",
       "      <th>9</th>\n",
       "      <td>5.796923</td>\n",
       "      <td>bmi</td>\n",
       "    </tr>\n",
       "    <tr>\n",
       "      <th>7</th>\n",
       "      <td>4.594837</td>\n",
       "      <td>active</td>\n",
       "    </tr>\n",
       "    <tr>\n",
       "      <th>8</th>\n",
       "      <td>2.327603</td>\n",
       "      <td>cardio</td>\n",
       "    </tr>\n",
       "    <tr>\n",
       "      <th>0</th>\n",
       "      <td>1.753593</td>\n",
       "      <td>gender</td>\n",
       "    </tr>\n",
       "    <tr>\n",
       "      <th>3</th>\n",
       "      <td>1.707404</td>\n",
       "      <td>cholesterol</td>\n",
       "    </tr>\n",
       "    <tr>\n",
       "      <th>4</th>\n",
       "      <td>1.452621</td>\n",
       "      <td>gluc</td>\n",
       "    </tr>\n",
       "    <tr>\n",
       "      <th>5</th>\n",
       "      <td>1.377874</td>\n",
       "      <td>smoke</td>\n",
       "    </tr>\n",
       "    <tr>\n",
       "      <th>2</th>\n",
       "      <td>1.297861</td>\n",
       "      <td>ap_lo</td>\n",
       "    </tr>\n",
       "    <tr>\n",
       "      <th>6</th>\n",
       "      <td>1.210520</td>\n",
       "      <td>alco</td>\n",
       "    </tr>\n",
       "  </tbody>\n",
       "</table>\n",
       "</div>"
      ],
      "text/plain": [
       "          VIF       Column\n",
       "1   13.537926        ap_hi\n",
       "10  10.399617          age\n",
       "9    5.796923          bmi\n",
       "7    4.594837       active\n",
       "8    2.327603       cardio\n",
       "0    1.753593       gender\n",
       "3    1.707404  cholesterol\n",
       "4    1.452621         gluc\n",
       "5    1.377874        smoke\n",
       "2    1.297861        ap_lo\n",
       "6    1.210520         alco"
      ]
     },
     "execution_count": 28,
     "metadata": {},
     "output_type": "execute_result"
    }
   ],
   "source": [
    "\"\"\"\"\"X = df[list(df.columns)]\n",
    "vif_info = pd.DataFrame()\n",
    "vif_info['VIF'] = [variance_inflation_factor(X.values, i) for i in range(X.shape[1])]\n",
    "vif_info['Column'] = X.columns\n",
    "vif_info.sort_values('VIF', ascending=False)'\"\"\"\"\"\n",
    "#High VIF indicates that there's multicollinearity"
   ]
  },
  {
   "cell_type": "markdown",
   "metadata": {
    "id": "vIry4uUWOZmO"
   },
   "source": [
    "## Models Used\n",
    "1. Decision Trees\n",
    "2. Random Forest Classifier\n",
    "3. Naive Bayes\n",
    "4. Support Vector Machines (SVM)\n",
    "5. Support Vector Machines (PCA) **OPTIONAL**\n",
    "6. Bayesian Analysis"
   ]
  },
  {
   "cell_type": "markdown",
   "metadata": {
    "id": "2qoAhTu7l-Pa"
   },
   "source": [
    "## Preparing Data for Machine Learning"
   ]
  },
  {
   "cell_type": "code",
   "execution_count": 27,
   "metadata": {
    "id": "XVYFqvY9mO5l"
   },
   "outputs": [],
   "source": [
    "X_train, X_test, y_train, y_test = train_test_split(X, y, test_size = 0.30, random_state=42)"
   ]
  },
  {
   "cell_type": "markdown",
   "metadata": {
    "id": "F-lsQnhUjnwD"
   },
   "source": [
    "## Decision Trees"
   ]
  },
  {
   "cell_type": "code",
   "execution_count": 28,
   "metadata": {
    "id": "kEjbLb6Y5rgT"
   },
   "outputs": [],
   "source": [
    "from sklearn.tree import DecisionTreeClassifier, plot_tree"
   ]
  },
  {
   "cell_type": "code",
   "execution_count": 29,
   "metadata": {},
   "outputs": [],
   "source": [
    "dt = DecisionTreeClassifier()"
   ]
  },
  {
   "cell_type": "code",
   "execution_count": 30,
   "metadata": {},
   "outputs": [
    {
     "data": {
      "text/plain": [
       "DecisionTreeClassifier()"
      ]
     },
     "execution_count": 30,
     "metadata": {},
     "output_type": "execute_result"
    }
   ],
   "source": [
    "dt.fit(X_train, y_train)"
   ]
  },
  {
   "cell_type": "code",
   "execution_count": 31,
   "metadata": {},
   "outputs": [],
   "source": [
    "pred_train = dt.predict(X_train)"
   ]
  },
  {
   "cell_type": "code",
   "execution_count": 32,
   "metadata": {
    "colab": {
     "base_uri": "https://localhost:8080/"
    },
    "id": "_HhiC-v3pXIe",
    "outputId": "d92fb745-672d-4b05-bd93-06742aad00f9",
    "scrolled": true
   },
   "outputs": [
    {
     "name": "stdout",
     "output_type": "stream",
     "text": [
      "Accuracy Train 0.9243265306122449\n"
     ]
    }
   ],
   "source": [
    "print(\"Accuracy Train\", metrics.accuracy_score(y_train, pred_train))"
   ]
  },
  {
   "cell_type": "code",
   "execution_count": 33,
   "metadata": {},
   "outputs": [],
   "source": [
    "pred = dt.predict(X_test)"
   ]
  },
  {
   "cell_type": "code",
   "execution_count": 34,
   "metadata": {},
   "outputs": [
    {
     "name": "stdout",
     "output_type": "stream",
     "text": [
      "Accuracy Test 0.6388571428571429\n"
     ]
    }
   ],
   "source": [
    "print(\"Accuracy Test\", metrics.accuracy_score(y_test, pred))"
   ]
  },
  {
   "cell_type": "code",
   "execution_count": 35,
   "metadata": {
    "colab": {
     "base_uri": "https://localhost:8080/"
    },
    "id": "QzAc3SlMpXLE",
    "outputId": "971e179d-fbac-4249-d2d2-b50483ffe6e6"
   },
   "outputs": [
    {
     "name": "stdout",
     "output_type": "stream",
     "text": [
      "              precision    recall  f1-score   support\n",
      "\n",
      "         0.0       0.63      0.69      0.66      2662\n",
      "         1.0       0.65      0.59      0.62      2588\n",
      "\n",
      "    accuracy                           0.64      5250\n",
      "   macro avg       0.64      0.64      0.64      5250\n",
      "weighted avg       0.64      0.64      0.64      5250\n",
      "\n"
     ]
    }
   ],
   "source": [
    "print(metrics.classification_report(y_test, pred))"
   ]
  },
  {
   "cell_type": "markdown",
   "metadata": {
    "id": "expEcr42kNDI"
   },
   "source": [
    "### Grid Search for Decision Trees"
   ]
  },
  {
   "cell_type": "code",
   "execution_count": null,
   "metadata": {
    "id": "OWQbMEmllEyE"
   },
   "outputs": [],
   "source": []
  },
  {
   "cell_type": "code",
   "execution_count": null,
   "metadata": {
    "id": "h1BoR_EIOsY1"
   },
   "outputs": [],
   "source": []
  },
  {
   "cell_type": "code",
   "execution_count": null,
   "metadata": {
    "id": "ZAA2NfYyOsbL"
   },
   "outputs": [],
   "source": []
  },
  {
   "cell_type": "markdown",
   "metadata": {
    "id": "YvPsWnr-jxaj"
   },
   "source": [
    "## Random Forest Classifier"
   ]
  },
  {
   "cell_type": "code",
   "execution_count": 36,
   "metadata": {
    "id": "gpmIU5alexXV"
   },
   "outputs": [],
   "source": [
    "from sklearn.ensemble import RandomForestClassifier\n",
    "from sklearn.metrics import confusion_matrix"
   ]
  },
  {
   "cell_type": "code",
   "execution_count": 37,
   "metadata": {
    "id": "_KurFVbqfOS9"
   },
   "outputs": [],
   "source": [
    "RF = RandomForestClassifier()"
   ]
  },
  {
   "cell_type": "code",
   "execution_count": 38,
   "metadata": {
    "colab": {
     "base_uri": "https://localhost:8080/"
    },
    "id": "7NZU-m04fOWx",
    "outputId": "f3e2e194-e530-47de-d741-ef49bf0e0727"
   },
   "outputs": [
    {
     "data": {
      "text/plain": [
       "RandomForestClassifier()"
      ]
     },
     "execution_count": 38,
     "metadata": {},
     "output_type": "execute_result"
    }
   ],
   "source": [
    "RF.fit(X_train, y_train)"
   ]
  },
  {
   "cell_type": "code",
   "execution_count": 39,
   "metadata": {
    "colab": {
     "base_uri": "https://localhost:8080/"
    },
    "id": "BSC2R0KMfOZH",
    "outputId": "df66d338-6998-4b65-8cf7-551438ab4561"
   },
   "outputs": [
    {
     "data": {
      "text/plain": [
       "0.9242448979591836"
      ]
     },
     "execution_count": 39,
     "metadata": {},
     "output_type": "execute_result"
    }
   ],
   "source": [
    "pred = RF.predict(X_train)\n",
    "metrics.accuracy_score(y_true = y_train, y_pred = pred)"
   ]
  },
  {
   "cell_type": "code",
   "execution_count": 40,
   "metadata": {
    "colab": {
     "base_uri": "https://localhost:8080/"
    },
    "id": "sLgTFm4nfObi",
    "outputId": "aff8b0ad-f18e-4a4f-bf11-9cdc2e3d7ee6"
   },
   "outputs": [
    {
     "data": {
      "text/plain": [
       "0.6921904761904762"
      ]
     },
     "execution_count": 40,
     "metadata": {},
     "output_type": "execute_result"
    }
   ],
   "source": [
    "pred_test = RF.predict(X_test)\n",
    "metrics.accuracy_score(y_true = y_test, y_pred = pred_test)"
   ]
  },
  {
   "cell_type": "code",
   "execution_count": 41,
   "metadata": {
    "colab": {
     "base_uri": "https://localhost:8080/"
    },
    "id": "cDCFoDoVfOd9",
    "outputId": "75392c02-e28e-4e9d-bbab-80250b165ae9"
   },
   "outputs": [
    {
     "name": "stdout",
     "output_type": "stream",
     "text": [
      "              precision    recall  f1-score   support\n",
      "\n",
      "         0.0       0.69      0.72      0.70      2662\n",
      "         1.0       0.70      0.66      0.68      2588\n",
      "\n",
      "    accuracy                           0.69      5250\n",
      "   macro avg       0.69      0.69      0.69      5250\n",
      "weighted avg       0.69      0.69      0.69      5250\n",
      "\n"
     ]
    }
   ],
   "source": [
    "print(metrics.classification_report(y_test, pred_test))"
   ]
  },
  {
   "cell_type": "markdown",
   "metadata": {
    "id": "ssbZhi9LkT6K"
   },
   "source": [
    "### Grid Search for Random Forest Classifier"
   ]
  },
  {
   "cell_type": "code",
   "execution_count": 42,
   "metadata": {
    "id": "SjDCAdDZGUIw"
   },
   "outputs": [],
   "source": [
    "parameters = {\n",
    "    \"min_samples_split\": [100, 500, 1000, 2000], \n",
    "    \"max_depth\": [10, 50, 100, 200], \n",
    "    \"n_estimators\": [100, 500, 1000]\n",
    "}"
   ]
  },
  {
   "cell_type": "code",
   "execution_count": 43,
   "metadata": {
    "id": "7-iRE7p9GUI1"
   },
   "outputs": [],
   "source": [
    "grid = GridSearchCV(RF, parameters, cv = 3, n_jobs = -1)"
   ]
  },
  {
   "cell_type": "code",
   "execution_count": 44,
   "metadata": {
    "colab": {
     "base_uri": "https://localhost:8080/"
    },
    "id": "BqvvzAfjGUI2",
    "outputId": "627a7e55-7d49-4a07-fdb1-b322c27a0632"
   },
   "outputs": [
    {
     "data": {
      "text/plain": [
       "GridSearchCV(cv=3, estimator=RandomForestClassifier(), n_jobs=-1,\n",
       "             param_grid={'max_depth': [10, 50, 100, 200],\n",
       "                         'min_samples_split': [100, 500, 1000, 2000],\n",
       "                         'n_estimators': [100, 500, 1000]})"
      ]
     },
     "execution_count": 44,
     "metadata": {},
     "output_type": "execute_result"
    }
   ],
   "source": [
    "grid.fit(X_train, y_train)"
   ]
  },
  {
   "cell_type": "code",
   "execution_count": 45,
   "metadata": {
    "colab": {
     "base_uri": "https://localhost:8080/"
    },
    "id": "vB5u0mzlGUI3",
    "outputId": "89bf0df6-715e-4153-e2e8-58c08303b540"
   },
   "outputs": [
    {
     "data": {
      "text/plain": [
       "RandomForestClassifier(max_depth=10, min_samples_split=100)"
      ]
     },
     "execution_count": 45,
     "metadata": {},
     "output_type": "execute_result"
    }
   ],
   "source": [
    "grid.best_estimator_"
   ]
  },
  {
   "cell_type": "code",
   "execution_count": 46,
   "metadata": {
    "id": "xbagafQ3GUI3"
   },
   "outputs": [],
   "source": [
    "rf = RandomForestClassifier(max_depth=10, min_samples_split=100)"
   ]
  },
  {
   "cell_type": "code",
   "execution_count": 47,
   "metadata": {
    "colab": {
     "base_uri": "https://localhost:8080/"
    },
    "id": "rzTUD7QxGUI3",
    "outputId": "395d93be-3b18-4d2c-8e91-ecd8bb88f969"
   },
   "outputs": [
    {
     "data": {
      "text/plain": [
       "RandomForestClassifier(max_depth=10, min_samples_split=100)"
      ]
     },
     "execution_count": 47,
     "metadata": {},
     "output_type": "execute_result"
    }
   ],
   "source": [
    "rf.fit(X_train, y_train)"
   ]
  },
  {
   "cell_type": "code",
   "execution_count": 48,
   "metadata": {
    "id": "BldM_sc8GUI4"
   },
   "outputs": [],
   "source": [
    "rf_pred = rf.predict(X_test)"
   ]
  },
  {
   "cell_type": "code",
   "execution_count": 49,
   "metadata": {
    "colab": {
     "base_uri": "https://localhost:8080/"
    },
    "id": "bO_RzIAYGUI4",
    "outputId": "9dd6c7ff-095d-473b-91c4-fe83961eecd9"
   },
   "outputs": [
    {
     "name": "stdout",
     "output_type": "stream",
     "text": [
      "[[2092  570]\n",
      " [ 868 1720]]\n"
     ]
    }
   ],
   "source": [
    "print(confusion_matrix(y_test, rf_pred))"
   ]
  },
  {
   "cell_type": "code",
   "execution_count": 50,
   "metadata": {
    "colab": {
     "base_uri": "https://localhost:8080/"
    },
    "id": "PzBO61RGGUI4",
    "outputId": "26dfe985-3dc9-411e-e599-eaa0286162db",
    "scrolled": true
   },
   "outputs": [
    {
     "name": "stdout",
     "output_type": "stream",
     "text": [
      "              precision    recall  f1-score   support\n",
      "\n",
      "         0.0       0.71      0.79      0.74      2662\n",
      "         1.0       0.75      0.66      0.71      2588\n",
      "\n",
      "    accuracy                           0.73      5250\n",
      "   macro avg       0.73      0.73      0.72      5250\n",
      "weighted avg       0.73      0.73      0.72      5250\n",
      "\n"
     ]
    }
   ],
   "source": [
    "print(metrics.classification_report(y_test, rf_pred))"
   ]
  },
  {
   "cell_type": "markdown",
   "metadata": {},
   "source": [
    "Shows an accuracy of 0.73 and precision of 0.75 and recall of 0.66"
   ]
  },
  {
   "cell_type": "markdown",
   "metadata": {
    "id": "z_eHihEnj4FV"
   },
   "source": [
    "## Naive Bayes"
   ]
  },
  {
   "cell_type": "code",
   "execution_count": 51,
   "metadata": {
    "id": "SjjOAgXQj6vi"
   },
   "outputs": [],
   "source": [
    "from sklearn.naive_bayes import GaussianNB"
   ]
  },
  {
   "cell_type": "code",
   "execution_count": 52,
   "metadata": {
    "id": "GS8s7PQVj6xc"
   },
   "outputs": [],
   "source": [
    "g = GaussianNB()"
   ]
  },
  {
   "cell_type": "code",
   "execution_count": 53,
   "metadata": {
    "id": "gWrbYkixj60F"
   },
   "outputs": [
    {
     "data": {
      "text/plain": [
       "GaussianNB()"
      ]
     },
     "execution_count": 53,
     "metadata": {},
     "output_type": "execute_result"
    }
   ],
   "source": [
    "g.fit(X_train, y_train)"
   ]
  },
  {
   "cell_type": "code",
   "execution_count": 54,
   "metadata": {
    "id": "19oe2Bboj62p"
   },
   "outputs": [
    {
     "data": {
      "text/plain": [
       "0.5811428571428572"
      ]
     },
     "execution_count": 54,
     "metadata": {},
     "output_type": "execute_result"
    }
   ],
   "source": [
    "pred = g.predict(X_train)\n",
    "metrics.accuracy_score(y_train, pred)"
   ]
  },
  {
   "cell_type": "code",
   "execution_count": 55,
   "metadata": {
    "id": "TXZHMFwU6DiU"
   },
   "outputs": [
    {
     "data": {
      "text/plain": [
       "0.5902857142857143"
      ]
     },
     "execution_count": 55,
     "metadata": {},
     "output_type": "execute_result"
    }
   ],
   "source": [
    "pred = g.predict(X_test)\n",
    "metrics.accuracy_score(y_test, pred)"
   ]
  },
  {
   "cell_type": "code",
   "execution_count": 56,
   "metadata": {
    "id": "uZPZUlbq6G9c"
   },
   "outputs": [
    {
     "name": "stdout",
     "output_type": "stream",
     "text": [
      "              precision    recall  f1-score   support\n",
      "\n",
      "         0.0       0.56      0.93      0.70      2662\n",
      "         1.0       0.77      0.24      0.37      2588\n",
      "\n",
      "    accuracy                           0.59      5250\n",
      "   macro avg       0.66      0.59      0.53      5250\n",
      "weighted avg       0.66      0.59      0.53      5250\n",
      "\n"
     ]
    }
   ],
   "source": [
    "print(metrics.classification_report(y_test,pred))"
   ]
  },
  {
   "cell_type": "markdown",
   "metadata": {
    "id": "ZFwGQMInkYI1"
   },
   "source": [
    "### Grid Search for Naive Bayes"
   ]
  },
  {
   "cell_type": "code",
   "execution_count": 97,
   "metadata": {},
   "outputs": [],
   "source": [
    "from sklearn.metrics import classification_report"
   ]
  },
  {
   "cell_type": "code",
   "execution_count": 86,
   "metadata": {
    "id": "WA89mZ5klB4d"
   },
   "outputs": [],
   "source": [
    "parameters = {\n",
    "    \"priors\": [None],\n",
    "    \"var_smoothing\": np.logspace(0,-9, num = 100)\n",
    "}"
   ]
  },
  {
   "cell_type": "code",
   "execution_count": 87,
   "metadata": {
    "id": "R958yBqDlB8L"
   },
   "outputs": [],
   "source": [
    "grid = GridSearchCV(g, parameters, cv = 3, n_jobs = -1)"
   ]
  },
  {
   "cell_type": "code",
   "execution_count": 88,
   "metadata": {
    "id": "P_DjTZ1qlB-7"
   },
   "outputs": [
    {
     "data": {
      "text/plain": [
       "GridSearchCV(cv=3, estimator=GaussianNB(), n_jobs=-1,\n",
       "             param_grid={'priors': [None],\n",
       "                         'var_smoothing': array([1.00000000e+00, 8.11130831e-01, 6.57933225e-01, 5.33669923e-01,\n",
       "       4.32876128e-01, 3.51119173e-01, 2.84803587e-01, 2.31012970e-01,\n",
       "       1.87381742e-01, 1.51991108e-01, 1.23284674e-01, 1.00000000e-01,\n",
       "       8.11130831e-02, 6.57933225e-02, 5.33669923e-02, 4.32876128e-02,\n",
       "       3.511191...\n",
       "       1.23284674e-07, 1.00000000e-07, 8.11130831e-08, 6.57933225e-08,\n",
       "       5.33669923e-08, 4.32876128e-08, 3.51119173e-08, 2.84803587e-08,\n",
       "       2.31012970e-08, 1.87381742e-08, 1.51991108e-08, 1.23284674e-08,\n",
       "       1.00000000e-08, 8.11130831e-09, 6.57933225e-09, 5.33669923e-09,\n",
       "       4.32876128e-09, 3.51119173e-09, 2.84803587e-09, 2.31012970e-09,\n",
       "       1.87381742e-09, 1.51991108e-09, 1.23284674e-09, 1.00000000e-09])})"
      ]
     },
     "execution_count": 88,
     "metadata": {},
     "output_type": "execute_result"
    }
   ],
   "source": [
    "grid.fit(X_train, y_train)"
   ]
  },
  {
   "cell_type": "code",
   "execution_count": 89,
   "metadata": {},
   "outputs": [
    {
     "data": {
      "text/plain": [
       "GaussianNB(var_smoothing=0.005336699231206307)"
      ]
     },
     "execution_count": 89,
     "metadata": {},
     "output_type": "execute_result"
    }
   ],
   "source": [
    "grid.best_estimator_"
   ]
  },
  {
   "cell_type": "code",
   "execution_count": 90,
   "metadata": {},
   "outputs": [],
   "source": [
    "GNB = GaussianNB(var_smoothing=0.657933224657568)"
   ]
  },
  {
   "cell_type": "code",
   "execution_count": 93,
   "metadata": {},
   "outputs": [],
   "source": [
    "GNBNew_pred = g.predict(X_test)"
   ]
  },
  {
   "cell_type": "code",
   "execution_count": 95,
   "metadata": {},
   "outputs": [
    {
     "name": "stdout",
     "output_type": "stream",
     "text": [
      "[[2479  183]\n",
      " [1968  620]]\n"
     ]
    }
   ],
   "source": [
    "print(confusion_matrix(y_test, GNBNew_pred))"
   ]
  },
  {
   "cell_type": "code",
   "execution_count": 100,
   "metadata": {},
   "outputs": [
    {
     "name": "stdout",
     "output_type": "stream",
     "text": [
      "              precision    recall  f1-score   support\n",
      "\n",
      "         0.0       0.56      0.93      0.70      2662\n",
      "         1.0       0.77      0.24      0.37      2588\n",
      "\n",
      "    accuracy                           0.59      5250\n",
      "   macro avg       0.66      0.59      0.53      5250\n",
      "weighted avg       0.66      0.59      0.53      5250\n",
      "\n"
     ]
    }
   ],
   "source": [
    "print(classification_report(y_test, GNBNew_pred))"
   ]
  },
  {
   "cell_type": "markdown",
   "metadata": {
    "id": "7h5JsIKXj7Kg"
   },
   "source": [
    "## Support Vector Machines"
   ]
  },
  {
   "cell_type": "code",
   "execution_count": null,
   "metadata": {
    "id": "n2r3jz5Ej99T"
   },
   "outputs": [],
   "source": [
    "from sklearn.svm import SVC"
   ]
  },
  {
   "cell_type": "code",
   "execution_count": null,
   "metadata": {
    "id": "sL5P0G2ij9_P"
   },
   "outputs": [],
   "source": [
    "estimator = SVC(kernel ='rbf')"
   ]
  },
  {
   "cell_type": "code",
   "execution_count": null,
   "metadata": {
    "colab": {
     "base_uri": "https://localhost:8080/"
    },
    "id": "ZqSe0hDmj-Bf",
    "outputId": "b932a3d1-f314-4f84-e98d-5e221ff4bd92"
   },
   "outputs": [],
   "source": [
    "estimator.fit(X_train,y_train)"
   ]
  },
  {
   "cell_type": "code",
   "execution_count": null,
   "metadata": {
    "id": "yG1WnTdXj-EI"
   },
   "outputs": [],
   "source": [
    "pred = estimator.predict(X_train)"
   ]
  },
  {
   "cell_type": "code",
   "execution_count": null,
   "metadata": {
    "id": "lb0ztlK0jhQy"
   },
   "outputs": [],
   "source": [
    "svm = metrics.accuracy_score(y_train,pred)"
   ]
  },
  {
   "cell_type": "code",
   "execution_count": null,
   "metadata": {
    "id": "VLc2917Nky82"
   },
   "outputs": [],
   "source": [
    "svm_pred2 = estimator.predict(X_test)"
   ]
  },
  {
   "cell_type": "code",
   "execution_count": null,
   "metadata": {
    "id": "bd1obQqdnVKB"
   },
   "outputs": [],
   "source": [
    "svm1 = metrics.accuracy_score(y_test,svm_pred2)"
   ]
  },
  {
   "cell_type": "code",
   "execution_count": null,
   "metadata": {
    "colab": {
     "base_uri": "https://localhost:8080/"
    },
    "id": "dypAg8rRnd2s",
    "outputId": "5ab63fe2-7e6f-4dca-898e-cbcb5cbb40a2"
   },
   "outputs": [],
   "source": [
    "print(\"Training Accuracy: \" + str(svm))\n",
    "print(\"Testing Accuracy: \" + str(svm1))"
   ]
  },
  {
   "cell_type": "code",
   "execution_count": null,
   "metadata": {
    "colab": {
     "base_uri": "https://localhost:8080/"
    },
    "id": "vE8XSacNnug_",
    "outputId": "636476d7-142d-47de-e451-ce4929b449a8"
   },
   "outputs": [],
   "source": [
    "print(metrics.classification_report(y_test, svm_pred2))"
   ]
  },
  {
   "cell_type": "markdown",
   "metadata": {
    "id": "lfgF1WCNkZEY"
   },
   "source": [
    "### Grid Search for Support Vector Machines"
   ]
  },
  {
   "cell_type": "code",
   "execution_count": null,
   "metadata": {
    "id": "c_ZXB7KBlC4s"
   },
   "outputs": [],
   "source": [
    "parameters = {\n",
    "    'kernel': ['linear', 'rbf'],\n",
    "    'C': [1, 10, 100, 1000]\n",
    "}"
   ]
  },
  {
   "cell_type": "code",
   "execution_count": null,
   "metadata": {
    "id": "a0-KCXITlC67"
   },
   "outputs": [],
   "source": [
    "cv_1 = GridSearchCV(estimator, parameters, cv=3, n_jobs=-1)"
   ]
  },
  {
   "cell_type": "code",
   "execution_count": null,
   "metadata": {
    "id": "BzsKGI1vlC9X"
   },
   "outputs": [],
   "source": [
    "cv_1.fit(X_train, y_train)"
   ]
  },
  {
   "cell_type": "code",
   "execution_count": null,
   "metadata": {
    "colab": {
     "base_uri": "https://localhost:8080/",
     "height": 168
    },
    "id": "OnXaEgYusTp_",
    "outputId": "a67d95c3-43cf-45da-c812-8691c7fd6631",
    "scrolled": true
   },
   "outputs": [],
   "source": [
    "cv_1.best_estimator_"
   ]
  },
  {
   "cell_type": "code",
   "execution_count": null,
   "metadata": {},
   "outputs": [],
   "source": [
    "svc = SVC(C=1000, kernel='linear')"
   ]
  },
  {
   "cell_type": "code",
   "execution_count": null,
   "metadata": {},
   "outputs": [],
   "source": [
    "svc.fit(X_train, y_train)"
   ]
  },
  {
   "cell_type": "code",
   "execution_count": null,
   "metadata": {},
   "outputs": [],
   "source": [
    "svc_pred = svc.predict(X_test)"
   ]
  },
  {
   "cell_type": "code",
   "execution_count": null,
   "metadata": {
    "scrolled": true
   },
   "outputs": [],
   "source": [
    "print(confusion_matrix(y_test, svc_pred))"
   ]
  },
  {
   "cell_type": "code",
   "execution_count": null,
   "metadata": {
    "scrolled": true
   },
   "outputs": [],
   "source": [
    "print(metrics.classification_report(y_test, svc_pred))"
   ]
  },
  {
   "cell_type": "markdown",
   "metadata": {},
   "source": [
    "## Ada Boost Classifier ##"
   ]
  },
  {
   "cell_type": "code",
   "execution_count": 57,
   "metadata": {},
   "outputs": [],
   "source": [
    "from sklearn.ensemble import AdaBoostClassifier"
   ]
  },
  {
   "cell_type": "code",
   "execution_count": 61,
   "metadata": {},
   "outputs": [],
   "source": [
    "from sklearn.metrics import accuracy_score"
   ]
  },
  {
   "cell_type": "code",
   "execution_count": 58,
   "metadata": {
    "scrolled": true
   },
   "outputs": [
    {
     "data": {
      "text/plain": [
       "AdaBoostClassifier()"
      ]
     },
     "execution_count": 58,
     "metadata": {},
     "output_type": "execute_result"
    }
   ],
   "source": [
    "AdaBoostClassifier()"
   ]
  },
  {
   "cell_type": "code",
   "execution_count": 59,
   "metadata": {
    "scrolled": true
   },
   "outputs": [
    {
     "data": {
      "text/plain": [
       "AdaBoostClassifier()"
      ]
     },
     "execution_count": 59,
     "metadata": {},
     "output_type": "execute_result"
    }
   ],
   "source": [
    "abc = AdaBoostClassifier()\n",
    "abc.fit(X_train, y_train)"
   ]
  },
  {
   "cell_type": "code",
   "execution_count": 62,
   "metadata": {
    "scrolled": true
   },
   "outputs": [
    {
     "data": {
      "text/plain": [
       "0.7290612244897959"
      ]
     },
     "execution_count": 62,
     "metadata": {},
     "output_type": "execute_result"
    }
   ],
   "source": [
    "abc_pred_train = abc.predict(X_train)\n",
    "accuracy_score(y_train, y_pred=abc_pred_train) #training accuracy"
   ]
  },
  {
   "cell_type": "code",
   "execution_count": 63,
   "metadata": {
    "scrolled": true
   },
   "outputs": [
    {
     "data": {
      "text/plain": [
       "0.7232380952380952"
      ]
     },
     "execution_count": 63,
     "metadata": {},
     "output_type": "execute_result"
    }
   ],
   "source": [
    "abc_pred_test = abc.predict(X_test)\n",
    "accuracy_score(y_test, y_pred=abc_pred_test) #testing accuracy"
   ]
  },
  {
   "cell_type": "code",
   "execution_count": 65,
   "metadata": {
    "scrolled": true
   },
   "outputs": [
    {
     "name": "stdout",
     "output_type": "stream",
     "text": [
      "[[2202  460]\n",
      " [ 993 1595]]\n"
     ]
    }
   ],
   "source": [
    "cm_abc = confusion_matrix(y_test, abc_pred_test)\n",
    "print(cm_abc)"
   ]
  },
  {
   "cell_type": "code",
   "execution_count": 67,
   "metadata": {
    "scrolled": true
   },
   "outputs": [
    {
     "name": "stdout",
     "output_type": "stream",
     "text": [
      "              precision    recall  f1-score   support\n",
      "\n",
      "           0       0.69      0.83      0.75      2662\n",
      "           1       0.78      0.62      0.69      2588\n",
      "\n",
      "    accuracy                           0.72      5250\n",
      "   macro avg       0.73      0.72      0.72      5250\n",
      "weighted avg       0.73      0.72      0.72      5250\n",
      "\n"
     ]
    }
   ],
   "source": [
    "print(metrics.classification_report(y_true = y_test, y_pred = abc_pred_test, labels=[0, 1]))"
   ]
  },
  {
   "cell_type": "markdown",
   "metadata": {},
   "source": [
    "## Ada Boost Grid Search ##"
   ]
  },
  {
   "cell_type": "code",
   "execution_count": 77,
   "metadata": {},
   "outputs": [],
   "source": [
    "parameters = {\n",
    "    'learning_rate': [2, 4, 6, 8, 10, 12, 14, 16],\n",
    "    'n_estimators': [50, 60, 70, 80, 90]\n",
    "}"
   ]
  },
  {
   "cell_type": "code",
   "execution_count": 78,
   "metadata": {},
   "outputs": [],
   "source": [
    "ab_gs = GridSearchCV(abc, parameters, cv=3, n_jobs=-1)"
   ]
  },
  {
   "cell_type": "code",
   "execution_count": 79,
   "metadata": {},
   "outputs": [
    {
     "data": {
      "text/plain": [
       "GridSearchCV(cv=3, estimator=AdaBoostClassifier(), n_jobs=-1,\n",
       "             param_grid={'learning_rate': [2, 4, 6, 8, 10, 12, 14, 16],\n",
       "                         'n_estimators': [50, 60, 70, 80, 90]})"
      ]
     },
     "execution_count": 79,
     "metadata": {},
     "output_type": "execute_result"
    }
   ],
   "source": [
    "ab_gs.fit(X_train, y_train)"
   ]
  },
  {
   "cell_type": "code",
   "execution_count": 80,
   "metadata": {
    "scrolled": true
   },
   "outputs": [
    {
     "data": {
      "text/plain": [
       "AdaBoostClassifier(learning_rate=6)"
      ]
     },
     "execution_count": 80,
     "metadata": {},
     "output_type": "execute_result"
    }
   ],
   "source": [
    "ab_gs.best_estimator_"
   ]
  },
  {
   "cell_type": "code",
   "execution_count": 81,
   "metadata": {},
   "outputs": [],
   "source": [
    "ab_1 = AdaBoostClassifier(learning_rate=6)"
   ]
  },
  {
   "cell_type": "code",
   "execution_count": 82,
   "metadata": {
    "scrolled": true
   },
   "outputs": [
    {
     "data": {
      "text/plain": [
       "AdaBoostClassifier(learning_rate=6)"
      ]
     },
     "execution_count": 82,
     "metadata": {},
     "output_type": "execute_result"
    }
   ],
   "source": [
    "ab_1.fit(X_train, y_train)"
   ]
  },
  {
   "cell_type": "code",
   "execution_count": 83,
   "metadata": {},
   "outputs": [],
   "source": [
    "ab_1_pred = ab_1.predict(X_test)"
   ]
  },
  {
   "cell_type": "code",
   "execution_count": 84,
   "metadata": {},
   "outputs": [
    {
     "name": "stdout",
     "output_type": "stream",
     "text": [
      "[[2662    0]\n",
      " [2588    0]]\n"
     ]
    }
   ],
   "source": [
    "print(confusion_matrix(y_test, ab_1_pred))"
   ]
  },
  {
   "cell_type": "code",
   "execution_count": 85,
   "metadata": {},
   "outputs": [
    {
     "name": "stdout",
     "output_type": "stream",
     "text": [
      "              precision    recall  f1-score   support\n",
      "\n",
      "         0.0       0.51      1.00      0.67      2662\n",
      "         1.0       0.00      0.00      0.00      2588\n",
      "\n",
      "    accuracy                           0.51      5250\n",
      "   macro avg       0.25      0.50      0.34      5250\n",
      "weighted avg       0.26      0.51      0.34      5250\n",
      "\n"
     ]
    },
    {
     "name": "stderr",
     "output_type": "stream",
     "text": [
      "/Users/shreyasravi/opt/anaconda3/lib/python3.9/site-packages/sklearn/metrics/_classification.py:1248: UndefinedMetricWarning: Precision and F-score are ill-defined and being set to 0.0 in labels with no predicted samples. Use `zero_division` parameter to control this behavior.\n",
      "  _warn_prf(average, modifier, msg_start, len(result))\n",
      "/Users/shreyasravi/opt/anaconda3/lib/python3.9/site-packages/sklearn/metrics/_classification.py:1248: UndefinedMetricWarning: Precision and F-score are ill-defined and being set to 0.0 in labels with no predicted samples. Use `zero_division` parameter to control this behavior.\n",
      "  _warn_prf(average, modifier, msg_start, len(result))\n",
      "/Users/shreyasravi/opt/anaconda3/lib/python3.9/site-packages/sklearn/metrics/_classification.py:1248: UndefinedMetricWarning: Precision and F-score are ill-defined and being set to 0.0 in labels with no predicted samples. Use `zero_division` parameter to control this behavior.\n",
      "  _warn_prf(average, modifier, msg_start, len(result))\n"
     ]
    }
   ],
   "source": [
    "print(metrics.classification_report(y_test, ab_1_pred))"
   ]
  },
  {
   "cell_type": "markdown",
   "metadata": {
    "id": "jAq0IBGAoJtg"
   },
   "source": [
    "## Support Vector Machines (PCA) **OPTIONAL**\n",
    "\n"
   ]
  },
  {
   "cell_type": "code",
   "execution_count": 101,
   "metadata": {
    "id": "NKw6z6sOoJti"
   },
   "outputs": [],
   "source": [
    "from sklearn.decomposition import PCA"
   ]
  },
  {
   "cell_type": "code",
   "execution_count": 103,
   "metadata": {
    "id": "GDS8FUvhoJti"
   },
   "outputs": [],
   "source": [
    "pca = PCA(n_components=None)\n",
    "\n",
    "pca.fit(X_train)\n",
    "X_train_pca = pca.transform(X_train)\n",
    "X_test_pca = pca.transform(X_test)"
   ]
  },
  {
   "cell_type": "code",
   "execution_count": 104,
   "metadata": {
    "id": "JJOcUd6toJtj"
   },
   "outputs": [
    {
     "name": "stdout",
     "output_type": "stream",
     "text": [
      "[0.30778018 0.51219174 0.70523357 0.80133198 0.88299978 0.9482875\n",
      " 0.99749101 0.99944964 0.99981022 1.        ]\n"
     ]
    },
    {
     "data": {
      "image/png": "[encoded data removed]",
      "text/plain": [
       "<Figure size 432x288 with 1 Axes>"
      ]
     },
     "metadata": {
      "needs_background": "light"
     },
     "output_type": "display_data"
    }
   ],
   "source": [
    "print(pca.explained_variance_ratio_.cumsum())\n",
    "plt.plot(pca.explained_variance_ratio_.cumsum(), '-o');\n",
    "plt.xticks(ticks= range(X_train_pca.shape[1]), labels=[i+1 for i in range(X_train_pca.shape[1])])\n",
    "plt.xlabel('Principal Components')\n",
    "plt.ylabel('Variance Explained')\n",
    "plt.show()"
   ]
  },
  {
   "cell_type": "code",
   "execution_count": 105,
   "metadata": {
    "id": "FM-AcBHhoJtj"
   },
   "outputs": [],
   "source": [
    "X_train_pca2 = X_train_pca[:, 0:11]\n",
    "X_test_pca2 = X_test_pca[:, 0:11]"
   ]
  },
  {
   "cell_type": "code",
   "execution_count": 107,
   "metadata": {},
   "outputs": [],
   "source": [
    "from sklearn.svm import SVC"
   ]
  },
  {
   "cell_type": "code",
   "execution_count": 108,
   "metadata": {},
   "outputs": [],
   "source": [
    "estimator_svc = SVC(kernel ='rbf')"
   ]
  },
  {
   "cell_type": "code",
   "execution_count": 109,
   "metadata": {},
   "outputs": [
    {
     "data": {
      "text/plain": [
       "SVC()"
      ]
     },
     "execution_count": 109,
     "metadata": {},
     "output_type": "execute_result"
    }
   ],
   "source": [
    "estimator_svc.fit(X_train_pca,y_train)"
   ]
  },
  {
   "cell_type": "code",
   "execution_count": 110,
   "metadata": {},
   "outputs": [],
   "source": [
    "pred = estimator_svc.predict(X_train_pca)"
   ]
  },
  {
   "cell_type": "code",
   "execution_count": 111,
   "metadata": {},
   "outputs": [],
   "source": [
    "svm = metrics.accuracy_score(y_train,pred)"
   ]
  },
  {
   "cell_type": "code",
   "execution_count": 113,
   "metadata": {},
   "outputs": [],
   "source": [
    "pred2 = estimator_svc.predict(X_test)"
   ]
  },
  {
   "cell_type": "code",
   "execution_count": 114,
   "metadata": {},
   "outputs": [],
   "source": [
    "svm1 = metrics.accuracy_score(y_test,pred2)"
   ]
  },
  {
   "cell_type": "code",
   "execution_count": 115,
   "metadata": {},
   "outputs": [
    {
     "name": "stdout",
     "output_type": "stream",
     "text": [
      "Training Accuracy: 0.6417142857142857\n",
      "Testing Accuracy: 0.4803809523809524\n"
     ]
    }
   ],
   "source": [
    "print(\"Training Accuracy: \" + str(svm))\n",
    "print(\"Testing Accuracy: \" + str(svm1))"
   ]
  },
  {
   "cell_type": "code",
   "execution_count": 117,
   "metadata": {
    "scrolled": true
   },
   "outputs": [
    {
     "name": "stdout",
     "output_type": "stream",
     "text": [
      "              precision    recall  f1-score   support\n",
      "\n",
      "         0.0       0.37      0.04      0.07      2662\n",
      "         1.0       0.49      0.94      0.64      2588\n",
      "\n",
      "    accuracy                           0.48      5250\n",
      "   macro avg       0.43      0.49      0.35      5250\n",
      "weighted avg       0.43      0.48      0.35      5250\n",
      "\n"
     ]
    }
   ],
   "source": [
    "print(classification_report(y_test,pred2))"
   ]
  },
  {
   "cell_type": "markdown",
   "metadata": {},
   "source": [
    "## SVM PCA Grid Search ##"
   ]
  },
  {
   "cell_type": "code",
   "execution_count": 118,
   "metadata": {},
   "outputs": [],
   "source": [
    "param_pca = {'C': [1,10,100,1000],\n",
    "              'gamma': [0.001,0.0001,1]}"
   ]
  },
  {
   "cell_type": "code",
   "execution_count": 119,
   "metadata": {},
   "outputs": [],
   "source": [
    "gs = GridSearchCV(estimator = estimator_svc, param_grid = \n",
    "param_pca, cv = 5, n_jobs = -1)"
   ]
  },
  {
   "cell_type": "code",
   "execution_count": 120,
   "metadata": {},
   "outputs": [
    {
     "data": {
      "text/plain": [
       "GridSearchCV(cv=5, estimator=SVC(), n_jobs=-1,\n",
       "             param_grid={'C': [1, 10, 100, 1000], 'gamma': [0.001, 0.0001, 1]})"
      ]
     },
     "execution_count": 120,
     "metadata": {},
     "output_type": "execute_result"
    }
   ],
   "source": [
    "gs.fit(X_train_pca2, y_train)"
   ]
  },
  {
   "cell_type": "code",
   "execution_count": 121,
   "metadata": {},
   "outputs": [
    {
     "data": {
      "text/plain": [
       "SVC(C=1000, gamma=1)"
      ]
     },
     "execution_count": 121,
     "metadata": {},
     "output_type": "execute_result"
    }
   ],
   "source": [
    "gs.best_estimator_"
   ]
  },
  {
   "cell_type": "code",
   "execution_count": 122,
   "metadata": {},
   "outputs": [],
   "source": [
    "pca_new =SVC(C = 1000, gamma = 1)"
   ]
  },
  {
   "cell_type": "code",
   "execution_count": 125,
   "metadata": {},
   "outputs": [
    {
     "data": {
      "text/plain": [
       "SVC(C=1000, gamma=1)"
      ]
     },
     "execution_count": 125,
     "metadata": {},
     "output_type": "execute_result"
    }
   ],
   "source": [
    "pca_new.fit(X_train_pca2 ,y_train)"
   ]
  },
  {
   "cell_type": "code",
   "execution_count": 126,
   "metadata": {},
   "outputs": [],
   "source": [
    "pca_new1 = pca_new.predict(X_test_pca2)"
   ]
  },
  {
   "cell_type": "code",
   "execution_count": 128,
   "metadata": {},
   "outputs": [
    {
     "name": "stdout",
     "output_type": "stream",
     "text": [
      "              precision    recall  f1-score   support\n",
      "\n",
      "         0.0       0.69      0.76      0.72      2662\n",
      "         1.0       0.72      0.65      0.68      2588\n",
      "\n",
      "    accuracy                           0.70      5250\n",
      "   macro avg       0.70      0.70      0.70      5250\n",
      "weighted avg       0.70      0.70      0.70      5250\n",
      "\n"
     ]
    }
   ],
   "source": [
    "print(metrics.classification_report(y_test, pca_new1))"
   ]
  },
  {
   "cell_type": "code",
   "execution_count": null,
   "metadata": {
    "id": "ckyIP_WzoJtk"
   },
   "outputs": [],
   "source": []
  },
  {
   "cell_type": "code",
   "execution_count": null,
   "metadata": {
    "id": "mW2O-hiuoJtk"
   },
   "outputs": [],
   "source": []
  },
  {
   "cell_type": "code",
   "execution_count": null,
   "metadata": {
    "id": "mByWzpoxoJtl"
   },
   "outputs": [],
   "source": []
  },
  {
   "cell_type": "markdown",
   "metadata": {
    "id": "bIIDPlHWPaUq"
   },
   "source": [
    "## Final Data Visualizations"
   ]
  },
  {
   "cell_type": "code",
   "execution_count": null,
   "metadata": {
    "id": "NsIa274vPehc"
   },
   "outputs": [],
   "source": []
  },
  {
   "cell_type": "code",
   "execution_count": null,
   "metadata": {
    "id": "jHzxazRtPei7"
   },
   "outputs": [],
   "source": []
  },
  {
   "cell_type": "code",
   "execution_count": null,
   "metadata": {
    "id": "BeImrn7fPelV"
   },
   "outputs": [],
   "source": []
  },
  {
   "cell_type": "code",
   "execution_count": null,
   "metadata": {
    "id": "e9FMMG-OPenE"
   },
   "outputs": [],
   "source": []
  }
 ],
 "metadata": {
  "colab": {
   "collapsed_sections": [],
   "name": "dsc_672_project.ipynb",
   "provenance": [],
   "toc_visible": true
  },
  "kernelspec": {
   "display_name": "Python 3 (ipykernel)",
   "language": "python",
   "name": "python3"
  },
  "language_info": {
   "codemirror_mode": {
    "name": "ipython",
    "version": 3
   },
   "file_extension": ".py",
   "mimetype": "text/x-python",
   "name": "python",
   "nbconvert_exporter": "python",
   "pygments_lexer": "ipython3",
   "version": "3.9.7"
  }
 },
 "nbformat": 4,
 "nbformat_minor": 1
}
